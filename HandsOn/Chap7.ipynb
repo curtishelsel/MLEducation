{
 "cells": [
  {
   "cell_type": "markdown",
   "id": "04bc9cda-4bf8-4803-8cff-61b9c5aca67e",
   "metadata": {},
   "source": [
    "# Ensemble Learning and Randoms Forests"
   ]
  },
  {
   "cell_type": "code",
   "execution_count": 1,
   "id": "c6b09153-1bc0-4433-8dec-2bf386586f38",
   "metadata": {},
   "outputs": [],
   "source": [
    "from sklearn.model_selection import train_test_split\n",
    "from sklearn.datasets import make_moons\n",
    "\n",
    "X, y = make_moons(n_samples=500, noise=0.30, random_state=42)\n",
    "X_train, X_test, y_train, y_test = train_test_split(X, y, random_state=42)"
   ]
  },
  {
   "cell_type": "code",
   "execution_count": 2,
   "id": "d58fc601-ae1f-4d66-9661-1c8a720b58f2",
   "metadata": {},
   "outputs": [],
   "source": [
    "from sklearn.ensemble import RandomForestClassifier\n",
    "from sklearn.ensemble import VotingClassifier\n",
    "from sklearn.linear_model import LogisticRegression\n",
    "from sklearn.svm import SVC"
   ]
  },
  {
   "cell_type": "code",
   "execution_count": 3,
   "id": "e6d096f4-bda9-406c-be0c-7ee68eb18df8",
   "metadata": {},
   "outputs": [],
   "source": [
    "log_clf = LogisticRegression()\n",
    "rnd_clf = RandomForestClassifier()\n",
    "svm_clf = SVC()"
   ]
  },
  {
   "cell_type": "code",
   "execution_count": 4,
   "id": "6701614c-b5b9-4b7b-98d6-2609e698c583",
   "metadata": {},
   "outputs": [
    {
     "data": {
      "text/html": [
       "<style>#sk-container-id-1 {color: black;}#sk-container-id-1 pre{padding: 0;}#sk-container-id-1 div.sk-toggleable {background-color: white;}#sk-container-id-1 label.sk-toggleable__label {cursor: pointer;display: block;width: 100%;margin-bottom: 0;padding: 0.3em;box-sizing: border-box;text-align: center;}#sk-container-id-1 label.sk-toggleable__label-arrow:before {content: \"▸\";float: left;margin-right: 0.25em;color: #696969;}#sk-container-id-1 label.sk-toggleable__label-arrow:hover:before {color: black;}#sk-container-id-1 div.sk-estimator:hover label.sk-toggleable__label-arrow:before {color: black;}#sk-container-id-1 div.sk-toggleable__content {max-height: 0;max-width: 0;overflow: hidden;text-align: left;background-color: #f0f8ff;}#sk-container-id-1 div.sk-toggleable__content pre {margin: 0.2em;color: black;border-radius: 0.25em;background-color: #f0f8ff;}#sk-container-id-1 input.sk-toggleable__control:checked~div.sk-toggleable__content {max-height: 200px;max-width: 100%;overflow: auto;}#sk-container-id-1 input.sk-toggleable__control:checked~label.sk-toggleable__label-arrow:before {content: \"▾\";}#sk-container-id-1 div.sk-estimator input.sk-toggleable__control:checked~label.sk-toggleable__label {background-color: #d4ebff;}#sk-container-id-1 div.sk-label input.sk-toggleable__control:checked~label.sk-toggleable__label {background-color: #d4ebff;}#sk-container-id-1 input.sk-hidden--visually {border: 0;clip: rect(1px 1px 1px 1px);clip: rect(1px, 1px, 1px, 1px);height: 1px;margin: -1px;overflow: hidden;padding: 0;position: absolute;width: 1px;}#sk-container-id-1 div.sk-estimator {font-family: monospace;background-color: #f0f8ff;border: 1px dotted black;border-radius: 0.25em;box-sizing: border-box;margin-bottom: 0.5em;}#sk-container-id-1 div.sk-estimator:hover {background-color: #d4ebff;}#sk-container-id-1 div.sk-parallel-item::after {content: \"\";width: 100%;border-bottom: 1px solid gray;flex-grow: 1;}#sk-container-id-1 div.sk-label:hover label.sk-toggleable__label {background-color: #d4ebff;}#sk-container-id-1 div.sk-serial::before {content: \"\";position: absolute;border-left: 1px solid gray;box-sizing: border-box;top: 0;bottom: 0;left: 50%;z-index: 0;}#sk-container-id-1 div.sk-serial {display: flex;flex-direction: column;align-items: center;background-color: white;padding-right: 0.2em;padding-left: 0.2em;position: relative;}#sk-container-id-1 div.sk-item {position: relative;z-index: 1;}#sk-container-id-1 div.sk-parallel {display: flex;align-items: stretch;justify-content: center;background-color: white;position: relative;}#sk-container-id-1 div.sk-item::before, #sk-container-id-1 div.sk-parallel-item::before {content: \"\";position: absolute;border-left: 1px solid gray;box-sizing: border-box;top: 0;bottom: 0;left: 50%;z-index: -1;}#sk-container-id-1 div.sk-parallel-item {display: flex;flex-direction: column;z-index: 1;position: relative;background-color: white;}#sk-container-id-1 div.sk-parallel-item:first-child::after {align-self: flex-end;width: 50%;}#sk-container-id-1 div.sk-parallel-item:last-child::after {align-self: flex-start;width: 50%;}#sk-container-id-1 div.sk-parallel-item:only-child::after {width: 0;}#sk-container-id-1 div.sk-dashed-wrapped {border: 1px dashed gray;margin: 0 0.4em 0.5em 0.4em;box-sizing: border-box;padding-bottom: 0.4em;background-color: white;}#sk-container-id-1 div.sk-label label {font-family: monospace;font-weight: bold;display: inline-block;line-height: 1.2em;}#sk-container-id-1 div.sk-label-container {text-align: center;}#sk-container-id-1 div.sk-container {/* jupyter's `normalize.less` sets `[hidden] { display: none; }` but bootstrap.min.css set `[hidden] { display: none !important; }` so we also need the `!important` here to be able to override the default hidden behavior on the sphinx rendered scikit-learn.org. See: https://github.com/scikit-learn/scikit-learn/issues/21755 */display: inline-block !important;position: relative;}#sk-container-id-1 div.sk-text-repr-fallback {display: none;}</style><div id=\"sk-container-id-1\" class=\"sk-top-container\"><div class=\"sk-text-repr-fallback\"><pre>VotingClassifier(estimators=[(&#x27;lr&#x27;, LogisticRegression()),\n",
       "                             (&#x27;rf&#x27;, RandomForestClassifier()), (&#x27;svc&#x27;, SVC())])</pre><b>In a Jupyter environment, please rerun this cell to show the HTML representation or trust the notebook. <br />On GitHub, the HTML representation is unable to render, please try loading this page with nbviewer.org.</b></div><div class=\"sk-container\" hidden><div class=\"sk-item sk-dashed-wrapped\"><div class=\"sk-label-container\"><div class=\"sk-label sk-toggleable\"><input class=\"sk-toggleable__control sk-hidden--visually\" id=\"sk-estimator-id-1\" type=\"checkbox\" ><label for=\"sk-estimator-id-1\" class=\"sk-toggleable__label sk-toggleable__label-arrow\">VotingClassifier</label><div class=\"sk-toggleable__content\"><pre>VotingClassifier(estimators=[(&#x27;lr&#x27;, LogisticRegression()),\n",
       "                             (&#x27;rf&#x27;, RandomForestClassifier()), (&#x27;svc&#x27;, SVC())])</pre></div></div></div><div class=\"sk-parallel\"><div class=\"sk-parallel-item\"><div class=\"sk-item\"><div class=\"sk-label-container\"><div class=\"sk-label sk-toggleable\"><label>lr</label></div></div><div class=\"sk-serial\"><div class=\"sk-item\"><div class=\"sk-estimator sk-toggleable\"><input class=\"sk-toggleable__control sk-hidden--visually\" id=\"sk-estimator-id-2\" type=\"checkbox\" ><label for=\"sk-estimator-id-2\" class=\"sk-toggleable__label sk-toggleable__label-arrow\">LogisticRegression</label><div class=\"sk-toggleable__content\"><pre>LogisticRegression()</pre></div></div></div></div></div></div><div class=\"sk-parallel-item\"><div class=\"sk-item\"><div class=\"sk-label-container\"><div class=\"sk-label sk-toggleable\"><label>rf</label></div></div><div class=\"sk-serial\"><div class=\"sk-item\"><div class=\"sk-estimator sk-toggleable\"><input class=\"sk-toggleable__control sk-hidden--visually\" id=\"sk-estimator-id-3\" type=\"checkbox\" ><label for=\"sk-estimator-id-3\" class=\"sk-toggleable__label sk-toggleable__label-arrow\">RandomForestClassifier</label><div class=\"sk-toggleable__content\"><pre>RandomForestClassifier()</pre></div></div></div></div></div></div><div class=\"sk-parallel-item\"><div class=\"sk-item\"><div class=\"sk-label-container\"><div class=\"sk-label sk-toggleable\"><label>svc</label></div></div><div class=\"sk-serial\"><div class=\"sk-item\"><div class=\"sk-estimator sk-toggleable\"><input class=\"sk-toggleable__control sk-hidden--visually\" id=\"sk-estimator-id-4\" type=\"checkbox\" ><label for=\"sk-estimator-id-4\" class=\"sk-toggleable__label sk-toggleable__label-arrow\">SVC</label><div class=\"sk-toggleable__content\"><pre>SVC()</pre></div></div></div></div></div></div></div></div></div></div>"
      ],
      "text/plain": [
       "VotingClassifier(estimators=[('lr', LogisticRegression()),\n",
       "                             ('rf', RandomForestClassifier()), ('svc', SVC())])"
      ]
     },
     "execution_count": 4,
     "metadata": {},
     "output_type": "execute_result"
    }
   ],
   "source": [
    "voting_clf = VotingClassifier(\n",
    "    estimators = [('lr', log_clf), ('rf', rnd_clf), ('svc', svm_clf)], voting='hard')\n",
    "\n",
    "voting_clf.fit(X_train, y_train)"
   ]
  },
  {
   "cell_type": "code",
   "execution_count": 5,
   "id": "bbcc1a7e-69e0-41f7-8b4d-2be19f2992d8",
   "metadata": {},
   "outputs": [
    {
     "name": "stdout",
     "output_type": "stream",
     "text": [
      "LogisticRegression 0.864\n",
      "RandomForestClassifier 0.896\n",
      "SVC 0.896\n",
      "VotingClassifier 0.896\n"
     ]
    }
   ],
   "source": [
    "from sklearn.metrics import accuracy_score\n",
    "\n",
    "for clf in (log_clf, rnd_clf, svm_clf, voting_clf):\n",
    "    clf.fit(X_train, y_train)\n",
    "    y_pred = clf.predict(X_test)\n",
    "    print(clf.__class__.__name__, accuracy_score(y_test, y_pred))"
   ]
  },
  {
   "cell_type": "code",
   "execution_count": 6,
   "id": "52a23f80-fca0-4a0d-9ebf-2be0e850ce30",
   "metadata": {},
   "outputs": [],
   "source": [
    "svm_clf_prob = SVC(probability=True)"
   ]
  },
  {
   "cell_type": "code",
   "execution_count": 7,
   "id": "23530de5-c382-4077-845c-b6b7c90138b0",
   "metadata": {},
   "outputs": [
    {
     "data": {
      "text/html": [
       "<style>#sk-container-id-2 {color: black;}#sk-container-id-2 pre{padding: 0;}#sk-container-id-2 div.sk-toggleable {background-color: white;}#sk-container-id-2 label.sk-toggleable__label {cursor: pointer;display: block;width: 100%;margin-bottom: 0;padding: 0.3em;box-sizing: border-box;text-align: center;}#sk-container-id-2 label.sk-toggleable__label-arrow:before {content: \"▸\";float: left;margin-right: 0.25em;color: #696969;}#sk-container-id-2 label.sk-toggleable__label-arrow:hover:before {color: black;}#sk-container-id-2 div.sk-estimator:hover label.sk-toggleable__label-arrow:before {color: black;}#sk-container-id-2 div.sk-toggleable__content {max-height: 0;max-width: 0;overflow: hidden;text-align: left;background-color: #f0f8ff;}#sk-container-id-2 div.sk-toggleable__content pre {margin: 0.2em;color: black;border-radius: 0.25em;background-color: #f0f8ff;}#sk-container-id-2 input.sk-toggleable__control:checked~div.sk-toggleable__content {max-height: 200px;max-width: 100%;overflow: auto;}#sk-container-id-2 input.sk-toggleable__control:checked~label.sk-toggleable__label-arrow:before {content: \"▾\";}#sk-container-id-2 div.sk-estimator input.sk-toggleable__control:checked~label.sk-toggleable__label {background-color: #d4ebff;}#sk-container-id-2 div.sk-label input.sk-toggleable__control:checked~label.sk-toggleable__label {background-color: #d4ebff;}#sk-container-id-2 input.sk-hidden--visually {border: 0;clip: rect(1px 1px 1px 1px);clip: rect(1px, 1px, 1px, 1px);height: 1px;margin: -1px;overflow: hidden;padding: 0;position: absolute;width: 1px;}#sk-container-id-2 div.sk-estimator {font-family: monospace;background-color: #f0f8ff;border: 1px dotted black;border-radius: 0.25em;box-sizing: border-box;margin-bottom: 0.5em;}#sk-container-id-2 div.sk-estimator:hover {background-color: #d4ebff;}#sk-container-id-2 div.sk-parallel-item::after {content: \"\";width: 100%;border-bottom: 1px solid gray;flex-grow: 1;}#sk-container-id-2 div.sk-label:hover label.sk-toggleable__label {background-color: #d4ebff;}#sk-container-id-2 div.sk-serial::before {content: \"\";position: absolute;border-left: 1px solid gray;box-sizing: border-box;top: 0;bottom: 0;left: 50%;z-index: 0;}#sk-container-id-2 div.sk-serial {display: flex;flex-direction: column;align-items: center;background-color: white;padding-right: 0.2em;padding-left: 0.2em;position: relative;}#sk-container-id-2 div.sk-item {position: relative;z-index: 1;}#sk-container-id-2 div.sk-parallel {display: flex;align-items: stretch;justify-content: center;background-color: white;position: relative;}#sk-container-id-2 div.sk-item::before, #sk-container-id-2 div.sk-parallel-item::before {content: \"\";position: absolute;border-left: 1px solid gray;box-sizing: border-box;top: 0;bottom: 0;left: 50%;z-index: -1;}#sk-container-id-2 div.sk-parallel-item {display: flex;flex-direction: column;z-index: 1;position: relative;background-color: white;}#sk-container-id-2 div.sk-parallel-item:first-child::after {align-self: flex-end;width: 50%;}#sk-container-id-2 div.sk-parallel-item:last-child::after {align-self: flex-start;width: 50%;}#sk-container-id-2 div.sk-parallel-item:only-child::after {width: 0;}#sk-container-id-2 div.sk-dashed-wrapped {border: 1px dashed gray;margin: 0 0.4em 0.5em 0.4em;box-sizing: border-box;padding-bottom: 0.4em;background-color: white;}#sk-container-id-2 div.sk-label label {font-family: monospace;font-weight: bold;display: inline-block;line-height: 1.2em;}#sk-container-id-2 div.sk-label-container {text-align: center;}#sk-container-id-2 div.sk-container {/* jupyter's `normalize.less` sets `[hidden] { display: none; }` but bootstrap.min.css set `[hidden] { display: none !important; }` so we also need the `!important` here to be able to override the default hidden behavior on the sphinx rendered scikit-learn.org. See: https://github.com/scikit-learn/scikit-learn/issues/21755 */display: inline-block !important;position: relative;}#sk-container-id-2 div.sk-text-repr-fallback {display: none;}</style><div id=\"sk-container-id-2\" class=\"sk-top-container\"><div class=\"sk-text-repr-fallback\"><pre>VotingClassifier(estimators=[(&#x27;lr&#x27;, LogisticRegression()),\n",
       "                             (&#x27;rf&#x27;, RandomForestClassifier()), (&#x27;svc&#x27;, SVC())])</pre><b>In a Jupyter environment, please rerun this cell to show the HTML representation or trust the notebook. <br />On GitHub, the HTML representation is unable to render, please try loading this page with nbviewer.org.</b></div><div class=\"sk-container\" hidden><div class=\"sk-item sk-dashed-wrapped\"><div class=\"sk-label-container\"><div class=\"sk-label sk-toggleable\"><input class=\"sk-toggleable__control sk-hidden--visually\" id=\"sk-estimator-id-5\" type=\"checkbox\" ><label for=\"sk-estimator-id-5\" class=\"sk-toggleable__label sk-toggleable__label-arrow\">VotingClassifier</label><div class=\"sk-toggleable__content\"><pre>VotingClassifier(estimators=[(&#x27;lr&#x27;, LogisticRegression()),\n",
       "                             (&#x27;rf&#x27;, RandomForestClassifier()), (&#x27;svc&#x27;, SVC())])</pre></div></div></div><div class=\"sk-parallel\"><div class=\"sk-parallel-item\"><div class=\"sk-item\"><div class=\"sk-label-container\"><div class=\"sk-label sk-toggleable\"><label>lr</label></div></div><div class=\"sk-serial\"><div class=\"sk-item\"><div class=\"sk-estimator sk-toggleable\"><input class=\"sk-toggleable__control sk-hidden--visually\" id=\"sk-estimator-id-6\" type=\"checkbox\" ><label for=\"sk-estimator-id-6\" class=\"sk-toggleable__label sk-toggleable__label-arrow\">LogisticRegression</label><div class=\"sk-toggleable__content\"><pre>LogisticRegression()</pre></div></div></div></div></div></div><div class=\"sk-parallel-item\"><div class=\"sk-item\"><div class=\"sk-label-container\"><div class=\"sk-label sk-toggleable\"><label>rf</label></div></div><div class=\"sk-serial\"><div class=\"sk-item\"><div class=\"sk-estimator sk-toggleable\"><input class=\"sk-toggleable__control sk-hidden--visually\" id=\"sk-estimator-id-7\" type=\"checkbox\" ><label for=\"sk-estimator-id-7\" class=\"sk-toggleable__label sk-toggleable__label-arrow\">RandomForestClassifier</label><div class=\"sk-toggleable__content\"><pre>RandomForestClassifier()</pre></div></div></div></div></div></div><div class=\"sk-parallel-item\"><div class=\"sk-item\"><div class=\"sk-label-container\"><div class=\"sk-label sk-toggleable\"><label>svc</label></div></div><div class=\"sk-serial\"><div class=\"sk-item\"><div class=\"sk-estimator sk-toggleable\"><input class=\"sk-toggleable__control sk-hidden--visually\" id=\"sk-estimator-id-8\" type=\"checkbox\" ><label for=\"sk-estimator-id-8\" class=\"sk-toggleable__label sk-toggleable__label-arrow\">SVC</label><div class=\"sk-toggleable__content\"><pre>SVC()</pre></div></div></div></div></div></div></div></div></div></div>"
      ],
      "text/plain": [
       "VotingClassifier(estimators=[('lr', LogisticRegression()),\n",
       "                             ('rf', RandomForestClassifier()), ('svc', SVC())])"
      ]
     },
     "execution_count": 7,
     "metadata": {},
     "output_type": "execute_result"
    }
   ],
   "source": [
    "voting_clf_prob = VotingClassifier(\n",
    "    estimators = [('lr', log_clf), ('rf', rnd_clf), ('svc', svm_clf_prob)], voting='soft')\n",
    "\n",
    "voting_clf.fit(X_train, y_train)"
   ]
  },
  {
   "cell_type": "code",
   "execution_count": 8,
   "id": "a54bb762-67f1-4544-b34a-253c4eaabf8f",
   "metadata": {},
   "outputs": [
    {
     "name": "stdout",
     "output_type": "stream",
     "text": [
      "LogisticRegression 0.864\n",
      "RandomForestClassifier 0.896\n",
      "SVC 0.896\n",
      "VotingClassifier 0.904\n"
     ]
    }
   ],
   "source": [
    "from sklearn.metrics import accuracy_score\n",
    "\n",
    "for clf in (log_clf, rnd_clf, svm_clf_prob, voting_clf_prob):\n",
    "    clf.fit(X_train, y_train)\n",
    "    y_pred = clf.predict(X_test)\n",
    "    print(clf.__class__.__name__, accuracy_score(y_test, y_pred))"
   ]
  },
  {
   "cell_type": "markdown",
   "id": "f0a9782c-77fe-4c7c-96b9-4258f6fc65d4",
   "metadata": {},
   "source": [
    "# Bagging and Pasting"
   ]
  },
  {
   "cell_type": "code",
   "execution_count": 9,
   "id": "ab1b632c-b56a-46a0-ad8c-14f415c8f62f",
   "metadata": {},
   "outputs": [],
   "source": [
    "from sklearn.ensemble import BaggingClassifier\n",
    "from sklearn.tree import DecisionTreeClassifier\n",
    "\n",
    "bag_clf = BaggingClassifier(\n",
    "    DecisionTreeClassifier(), n_estimators=500,\n",
    "    max_samples=100, bootstrap=True, n_jobs=-1)\n",
    "\n",
    "bag_clf.fit(X_train, y_train)\n",
    "y_pred = bag_clf.predict(X_test)"
   ]
  },
  {
   "cell_type": "code",
   "execution_count": 10,
   "id": "e1fa1b99-976e-4f7b-9959-ab59f0520a7f",
   "metadata": {},
   "outputs": [],
   "source": [
    "bag_clf = BaggingClassifier(\n",
    "    DecisionTreeClassifier(), n_estimators=500,\n",
    "    max_samples=100, bootstrap=True, n_jobs=-1, oob_score=True)"
   ]
  },
  {
   "cell_type": "code",
   "execution_count": 11,
   "id": "fcd2c242-bd65-43bc-90f8-c0d72f2206ea",
   "metadata": {},
   "outputs": [
    {
     "data": {
      "text/html": [
       "<style>#sk-container-id-3 {color: black;}#sk-container-id-3 pre{padding: 0;}#sk-container-id-3 div.sk-toggleable {background-color: white;}#sk-container-id-3 label.sk-toggleable__label {cursor: pointer;display: block;width: 100%;margin-bottom: 0;padding: 0.3em;box-sizing: border-box;text-align: center;}#sk-container-id-3 label.sk-toggleable__label-arrow:before {content: \"▸\";float: left;margin-right: 0.25em;color: #696969;}#sk-container-id-3 label.sk-toggleable__label-arrow:hover:before {color: black;}#sk-container-id-3 div.sk-estimator:hover label.sk-toggleable__label-arrow:before {color: black;}#sk-container-id-3 div.sk-toggleable__content {max-height: 0;max-width: 0;overflow: hidden;text-align: left;background-color: #f0f8ff;}#sk-container-id-3 div.sk-toggleable__content pre {margin: 0.2em;color: black;border-radius: 0.25em;background-color: #f0f8ff;}#sk-container-id-3 input.sk-toggleable__control:checked~div.sk-toggleable__content {max-height: 200px;max-width: 100%;overflow: auto;}#sk-container-id-3 input.sk-toggleable__control:checked~label.sk-toggleable__label-arrow:before {content: \"▾\";}#sk-container-id-3 div.sk-estimator input.sk-toggleable__control:checked~label.sk-toggleable__label {background-color: #d4ebff;}#sk-container-id-3 div.sk-label input.sk-toggleable__control:checked~label.sk-toggleable__label {background-color: #d4ebff;}#sk-container-id-3 input.sk-hidden--visually {border: 0;clip: rect(1px 1px 1px 1px);clip: rect(1px, 1px, 1px, 1px);height: 1px;margin: -1px;overflow: hidden;padding: 0;position: absolute;width: 1px;}#sk-container-id-3 div.sk-estimator {font-family: monospace;background-color: #f0f8ff;border: 1px dotted black;border-radius: 0.25em;box-sizing: border-box;margin-bottom: 0.5em;}#sk-container-id-3 div.sk-estimator:hover {background-color: #d4ebff;}#sk-container-id-3 div.sk-parallel-item::after {content: \"\";width: 100%;border-bottom: 1px solid gray;flex-grow: 1;}#sk-container-id-3 div.sk-label:hover label.sk-toggleable__label {background-color: #d4ebff;}#sk-container-id-3 div.sk-serial::before {content: \"\";position: absolute;border-left: 1px solid gray;box-sizing: border-box;top: 0;bottom: 0;left: 50%;z-index: 0;}#sk-container-id-3 div.sk-serial {display: flex;flex-direction: column;align-items: center;background-color: white;padding-right: 0.2em;padding-left: 0.2em;position: relative;}#sk-container-id-3 div.sk-item {position: relative;z-index: 1;}#sk-container-id-3 div.sk-parallel {display: flex;align-items: stretch;justify-content: center;background-color: white;position: relative;}#sk-container-id-3 div.sk-item::before, #sk-container-id-3 div.sk-parallel-item::before {content: \"\";position: absolute;border-left: 1px solid gray;box-sizing: border-box;top: 0;bottom: 0;left: 50%;z-index: -1;}#sk-container-id-3 div.sk-parallel-item {display: flex;flex-direction: column;z-index: 1;position: relative;background-color: white;}#sk-container-id-3 div.sk-parallel-item:first-child::after {align-self: flex-end;width: 50%;}#sk-container-id-3 div.sk-parallel-item:last-child::after {align-self: flex-start;width: 50%;}#sk-container-id-3 div.sk-parallel-item:only-child::after {width: 0;}#sk-container-id-3 div.sk-dashed-wrapped {border: 1px dashed gray;margin: 0 0.4em 0.5em 0.4em;box-sizing: border-box;padding-bottom: 0.4em;background-color: white;}#sk-container-id-3 div.sk-label label {font-family: monospace;font-weight: bold;display: inline-block;line-height: 1.2em;}#sk-container-id-3 div.sk-label-container {text-align: center;}#sk-container-id-3 div.sk-container {/* jupyter's `normalize.less` sets `[hidden] { display: none; }` but bootstrap.min.css set `[hidden] { display: none !important; }` so we also need the `!important` here to be able to override the default hidden behavior on the sphinx rendered scikit-learn.org. See: https://github.com/scikit-learn/scikit-learn/issues/21755 */display: inline-block !important;position: relative;}#sk-container-id-3 div.sk-text-repr-fallback {display: none;}</style><div id=\"sk-container-id-3\" class=\"sk-top-container\"><div class=\"sk-text-repr-fallback\"><pre>BaggingClassifier(estimator=DecisionTreeClassifier(), max_samples=100,\n",
       "                  n_estimators=500, n_jobs=-1, oob_score=True)</pre><b>In a Jupyter environment, please rerun this cell to show the HTML representation or trust the notebook. <br />On GitHub, the HTML representation is unable to render, please try loading this page with nbviewer.org.</b></div><div class=\"sk-container\" hidden><div class=\"sk-item sk-dashed-wrapped\"><div class=\"sk-label-container\"><div class=\"sk-label sk-toggleable\"><input class=\"sk-toggleable__control sk-hidden--visually\" id=\"sk-estimator-id-9\" type=\"checkbox\" ><label for=\"sk-estimator-id-9\" class=\"sk-toggleable__label sk-toggleable__label-arrow\">BaggingClassifier</label><div class=\"sk-toggleable__content\"><pre>BaggingClassifier(estimator=DecisionTreeClassifier(), max_samples=100,\n",
       "                  n_estimators=500, n_jobs=-1, oob_score=True)</pre></div></div></div><div class=\"sk-parallel\"><div class=\"sk-parallel-item\"><div class=\"sk-item\"><div class=\"sk-label-container\"><div class=\"sk-label sk-toggleable\"><input class=\"sk-toggleable__control sk-hidden--visually\" id=\"sk-estimator-id-10\" type=\"checkbox\" ><label for=\"sk-estimator-id-10\" class=\"sk-toggleable__label sk-toggleable__label-arrow\">estimator: DecisionTreeClassifier</label><div class=\"sk-toggleable__content\"><pre>DecisionTreeClassifier()</pre></div></div></div><div class=\"sk-serial\"><div class=\"sk-item\"><div class=\"sk-estimator sk-toggleable\"><input class=\"sk-toggleable__control sk-hidden--visually\" id=\"sk-estimator-id-11\" type=\"checkbox\" ><label for=\"sk-estimator-id-11\" class=\"sk-toggleable__label sk-toggleable__label-arrow\">DecisionTreeClassifier</label><div class=\"sk-toggleable__content\"><pre>DecisionTreeClassifier()</pre></div></div></div></div></div></div></div></div></div></div>"
      ],
      "text/plain": [
       "BaggingClassifier(estimator=DecisionTreeClassifier(), max_samples=100,\n",
       "                  n_estimators=500, n_jobs=-1, oob_score=True)"
      ]
     },
     "execution_count": 11,
     "metadata": {},
     "output_type": "execute_result"
    }
   ],
   "source": [
    "bag_clf.fit(X_train, y_train)"
   ]
  },
  {
   "cell_type": "code",
   "execution_count": 12,
   "id": "8c947f59-3005-4bdf-9a63-73f950fb0f6c",
   "metadata": {},
   "outputs": [
    {
     "data": {
      "text/plain": [
       "0.9253333333333333"
      ]
     },
     "execution_count": 12,
     "metadata": {},
     "output_type": "execute_result"
    }
   ],
   "source": [
    "bag_clf.oob_score_"
   ]
  },
  {
   "cell_type": "code",
   "execution_count": 13,
   "id": "e148ae6c-c148-4b69-8098-e8f62a88b7bd",
   "metadata": {},
   "outputs": [],
   "source": [
    "from sklearn.metrics import accuracy_score\n",
    "y_pred = bag_clf.predict(X_test)"
   ]
  },
  {
   "cell_type": "code",
   "execution_count": 14,
   "id": "d49b1c6f-1b60-49c2-b8c0-fc12b47c5aba",
   "metadata": {},
   "outputs": [
    {
     "data": {
      "text/plain": [
       "0.92"
      ]
     },
     "execution_count": 14,
     "metadata": {},
     "output_type": "execute_result"
    }
   ],
   "source": [
    "accuracy_score(y_test, y_pred)"
   ]
  },
  {
   "cell_type": "code",
   "execution_count": 15,
   "id": "b875837e-25b4-4c58-b15c-0c8404856805",
   "metadata": {
    "scrolled": true
   },
   "outputs": [
    {
     "data": {
      "text/plain": [
       "array([[0.35233161, 0.64766839],\n",
       "       [0.40526316, 0.59473684],\n",
       "       [0.99738903, 0.00261097],\n",
       "       [0.01591512, 0.98408488],\n",
       "       [0.02077922, 0.97922078],\n",
       "       [0.0874036 , 0.9125964 ],\n",
       "       [0.41012658, 0.58987342],\n",
       "       [0.05835544, 0.94164456],\n",
       "       [0.93516209, 0.06483791],\n",
       "       [0.86772487, 0.13227513],\n",
       "       [0.57908847, 0.42091153],\n",
       "       [0.04896907, 0.95103093],\n",
       "       [0.78036176, 0.21963824],\n",
       "       [0.83113456, 0.16886544],\n",
       "       [0.91556728, 0.08443272],\n",
       "       [0.10621762, 0.89378238],\n",
       "       [0.03674541, 0.96325459],\n",
       "       [0.94573643, 0.05426357],\n",
       "       [0.66161616, 0.33838384],\n",
       "       [0.92761394, 0.07238606],\n",
       "       [0.05221932, 0.94778068],\n",
       "       [0.21578947, 0.78421053],\n",
       "       [0.87631579, 0.12368421],\n",
       "       [0.99485861, 0.00514139],\n",
       "       [0.96221662, 0.03778338],\n",
       "       [0.00789474, 0.99210526],\n",
       "       [0.94117647, 0.05882353],\n",
       "       [1.        , 0.        ],\n",
       "       [0.02056555, 0.97943445],\n",
       "       [0.73036649, 0.26963351],\n",
       "       [0.        , 1.        ],\n",
       "       [0.99728261, 0.00271739],\n",
       "       [0.015625  , 0.984375  ],\n",
       "       [0.08310992, 0.91689008],\n",
       "       [0.07692308, 0.92307692],\n",
       "       [0.98087432, 0.01912568],\n",
       "       [0.01530612, 0.98469388],\n",
       "       [0.63002681, 0.36997319],\n",
       "       [0.00759494, 0.99240506],\n",
       "       [0.99206349, 0.00793651],\n",
       "       [0.08101266, 0.91898734],\n",
       "       [0.36476427, 0.63523573],\n",
       "       [0.98941799, 0.01058201],\n",
       "       [0.99744246, 0.00255754],\n",
       "       [0.00529101, 0.99470899],\n",
       "       [0.99722222, 0.00277778],\n",
       "       [0.99496222, 0.00503778],\n",
       "       [0.0475    , 0.9525    ],\n",
       "       [0.98687664, 0.01312336],\n",
       "       [0.04358974, 0.95641026],\n",
       "       [0.95502646, 0.04497354],\n",
       "       [0.81889764, 0.18110236],\n",
       "       [0.93094629, 0.06905371],\n",
       "       [0.84210526, 0.15789474],\n",
       "       [0.02624672, 0.97375328],\n",
       "       [0.09139785, 0.90860215],\n",
       "       [0.7486911 , 0.2513089 ],\n",
       "       [0.02798982, 0.97201018],\n",
       "       [0.02827763, 0.97172237],\n",
       "       [0.03608247, 0.96391753],\n",
       "       [0.77443609, 0.22556391],\n",
       "       [0.6167979 , 0.3832021 ],\n",
       "       [0.7486911 , 0.2513089 ],\n",
       "       [0.99484536, 0.00515464],\n",
       "       [0.01055409, 0.98944591],\n",
       "       [0.79100529, 0.20899471],\n",
       "       [0.98453608, 0.01546392],\n",
       "       [0.99457995, 0.00542005],\n",
       "       [0.53766234, 0.46233766],\n",
       "       [0.97692308, 0.02307692],\n",
       "       [0.36883117, 0.63116883],\n",
       "       [0.30829016, 0.69170984],\n",
       "       [0.4398977 , 0.5601023 ],\n",
       "       [0.7075718 , 0.2924282 ],\n",
       "       [0.00502513, 0.99497487],\n",
       "       [0.36074271, 0.63925729],\n",
       "       [0.88859416, 0.11140584],\n",
       "       [0.9972067 , 0.0027933 ],\n",
       "       [0.03183024, 0.96816976],\n",
       "       [0.95767196, 0.04232804],\n",
       "       [0.01302083, 0.98697917],\n",
       "       [0.22702703, 0.77297297],\n",
       "       [0.1227154 , 0.8772846 ],\n",
       "       [0.47727273, 0.52272727],\n",
       "       [0.98976982, 0.01023018],\n",
       "       [0.0530504 , 0.9469496 ],\n",
       "       [0.65435356, 0.34564644],\n",
       "       [0.06806283, 0.93193717],\n",
       "       [0.04050633, 0.95949367],\n",
       "       [0.        , 1.        ],\n",
       "       [0.31606218, 0.68393782],\n",
       "       [0.9973545 , 0.0026455 ],\n",
       "       [0.0052356 , 0.9947644 ],\n",
       "       [0.03989362, 0.96010638],\n",
       "       [0.02368421, 0.97631579],\n",
       "       [0.81167109, 0.18832891],\n",
       "       [0.66754617, 0.33245383],\n",
       "       [0.06824147, 0.93175853],\n",
       "       [1.        , 0.        ],\n",
       "       [0.32820513, 0.67179487],\n",
       "       [0.68783069, 0.31216931],\n",
       "       [0.00819672, 0.99180328],\n",
       "       [0.09135802, 0.90864198],\n",
       "       [0.43467337, 0.56532663],\n",
       "       [0.97650131, 0.02349869],\n",
       "       [0.04834606, 0.95165394],\n",
       "       [0.96850394, 0.03149606],\n",
       "       [0.43142145, 0.56857855],\n",
       "       [0.24864865, 0.75135135],\n",
       "       [0.99483204, 0.00516796],\n",
       "       [0.20555556, 0.79444444],\n",
       "       [0.80366492, 0.19633508],\n",
       "       [0.24736842, 0.75263158],\n",
       "       [0.81693989, 0.18306011],\n",
       "       [0.995086  , 0.004914  ],\n",
       "       [0.98994975, 0.01005025],\n",
       "       [0.        , 1.        ],\n",
       "       [0.        , 1.        ],\n",
       "       [0.46216216, 0.53783784],\n",
       "       [0.98950131, 0.01049869],\n",
       "       [0.07518797, 0.92481203],\n",
       "       [0.98663102, 0.01336898],\n",
       "       [0.97361478, 0.02638522],\n",
       "       [0.99744246, 0.00255754],\n",
       "       [0.96256684, 0.03743316],\n",
       "       [0.9762533 , 0.0237467 ],\n",
       "       [0.03504043, 0.96495957],\n",
       "       [0.91581633, 0.08418367],\n",
       "       [0.95618557, 0.04381443],\n",
       "       [0.03166227, 0.96833773],\n",
       "       [0.24932976, 0.75067024],\n",
       "       [0.85974026, 0.14025974],\n",
       "       [0.36175711, 0.63824289],\n",
       "       [0.89646465, 0.10353535],\n",
       "       [0.        , 1.        ],\n",
       "       [0.03693931, 0.96306069],\n",
       "       [0.79177378, 0.20822622],\n",
       "       [0.72456576, 0.27543424],\n",
       "       [0.60107817, 0.39892183],\n",
       "       [0.87594937, 0.12405063],\n",
       "       [0.92084433, 0.07915567],\n",
       "       [0.15025907, 0.84974093],\n",
       "       [0.79028133, 0.20971867],\n",
       "       [0.04255319, 0.95744681],\n",
       "       [0.00546448, 0.99453552],\n",
       "       [0.11375661, 0.88624339],\n",
       "       [0.71538462, 0.28461538],\n",
       "       [0.96675192, 0.03324808],\n",
       "       [0.9973822 , 0.0026178 ],\n",
       "       [0.02393617, 0.97606383],\n",
       "       [0.01072386, 0.98927614],\n",
       "       [0.07179487, 0.92820513],\n",
       "       [0.02933333, 0.97066667],\n",
       "       [0.99477807, 0.00522193],\n",
       "       [0.99210526, 0.00789474],\n",
       "       [0.888     , 0.112     ],\n",
       "       [0.9921671 , 0.0078329 ],\n",
       "       [1.        , 0.        ],\n",
       "       [0.85025381, 0.14974619],\n",
       "       [0.00793651, 0.99206349],\n",
       "       [0.68020305, 0.31979695],\n",
       "       [0.33701657, 0.66298343],\n",
       "       [0.05053191, 0.94946809],\n",
       "       [0.00558659, 0.99441341],\n",
       "       [0.38341969, 0.61658031],\n",
       "       [0.99208443, 0.00791557],\n",
       "       [0.98143236, 0.01856764],\n",
       "       [0.00263158, 0.99736842],\n",
       "       [0.98167539, 0.01832461],\n",
       "       [0.03367876, 0.96632124],\n",
       "       [0.00767263, 0.99232737],\n",
       "       [0.93483709, 0.06516291],\n",
       "       [0.01036269, 0.98963731],\n",
       "       [0.00514139, 0.99485861],\n",
       "       [0.99739583, 0.00260417],\n",
       "       [0.03655352, 0.96344648],\n",
       "       [0.84139785, 0.15860215],\n",
       "       [0.92987013, 0.07012987],\n",
       "       [0.05154639, 0.94845361],\n",
       "       [0.96073298, 0.03926702],\n",
       "       [0.92987013, 0.07012987],\n",
       "       [0.97082228, 0.02917772],\n",
       "       [0.02067183, 0.97932817],\n",
       "       [0.01262626, 0.98737374],\n",
       "       [0.99483204, 0.00516796],\n",
       "       [0.26822917, 0.73177083],\n",
       "       [0.99470899, 0.00529101],\n",
       "       [0.10182768, 0.89817232],\n",
       "       [0.0201005 , 0.9798995 ],\n",
       "       [0.99168975, 0.00831025],\n",
       "       [0.        , 1.        ],\n",
       "       [0.19794344, 0.80205656],\n",
       "       [0.84782609, 0.15217391],\n",
       "       [0.93994778, 0.06005222],\n",
       "       [0.64577657, 0.35422343],\n",
       "       [0.66843501, 0.33156499],\n",
       "       [0.02506964, 0.97493036],\n",
       "       [0.25065274, 0.74934726],\n",
       "       [0.99470899, 0.00529101],\n",
       "       [0.90933333, 0.09066667],\n",
       "       [0.88586957, 0.11413043],\n",
       "       [0.97547684, 0.02452316],\n",
       "       [0.05817175, 0.94182825],\n",
       "       [0.01496259, 0.98503741],\n",
       "       [0.10966057, 0.89033943],\n",
       "       [0.52671756, 0.47328244],\n",
       "       [0.        , 1.        ],\n",
       "       [0.02067183, 0.97932817],\n",
       "       [0.97894737, 0.02105263],\n",
       "       [0.08894879, 0.91105121],\n",
       "       [0.09793814, 0.90206186],\n",
       "       [0.84924623, 0.15075377],\n",
       "       [0.05744125, 0.94255875],\n",
       "       [0.33597884, 0.66402116],\n",
       "       [0.005     , 0.995     ],\n",
       "       [0.99745547, 0.00254453],\n",
       "       [0.02638522, 0.97361478],\n",
       "       [0.02412869, 0.97587131],\n",
       "       [0.94736842, 0.05263158],\n",
       "       [0.88113695, 0.11886305],\n",
       "       [0.94986807, 0.05013193],\n",
       "       [0.02756892, 0.97243108],\n",
       "       [0.06994819, 0.93005181],\n",
       "       [0.95833333, 0.04166667],\n",
       "       [0.13959391, 0.86040609],\n",
       "       [0.00554017, 0.99445983],\n",
       "       [0.30179028, 0.69820972],\n",
       "       [0.96632124, 0.03367876],\n",
       "       [0.83887468, 0.16112532],\n",
       "       [0.09973753, 0.90026247],\n",
       "       [0.70207254, 0.29792746],\n",
       "       [0.9213198 , 0.0786802 ],\n",
       "       [0.15706806, 0.84293194],\n",
       "       [0.13297872, 0.86702128],\n",
       "       [0.99462366, 0.00537634],\n",
       "       [0.        , 1.        ],\n",
       "       [0.03133159, 0.96866841],\n",
       "       [0.02842377, 0.97157623],\n",
       "       [0.37958115, 0.62041885],\n",
       "       [0.86046512, 0.13953488],\n",
       "       [0.04884319, 0.95115681],\n",
       "       [0.98966408, 0.01033592],\n",
       "       [0.81462141, 0.18537859],\n",
       "       [0.00265252, 0.99734748],\n",
       "       [0.76595745, 0.23404255],\n",
       "       [0.98984772, 0.01015228],\n",
       "       [0.01630435, 0.98369565],\n",
       "       [0.99253731, 0.00746269],\n",
       "       [0.05426357, 0.94573643],\n",
       "       [0.02099738, 0.97900262],\n",
       "       [0.10182768, 0.89817232],\n",
       "       [0.26612903, 0.73387097],\n",
       "       [0.88172043, 0.11827957],\n",
       "       [0.07179487, 0.92820513],\n",
       "       [0.98704663, 0.01295337],\n",
       "       [0.63265306, 0.36734694],\n",
       "       [0.08974359, 0.91025641],\n",
       "       [0.65405405, 0.34594595],\n",
       "       [0.84455959, 0.15544041],\n",
       "       [0.01066667, 0.98933333],\n",
       "       [0.99472296, 0.00527704],\n",
       "       [0.01058201, 0.98941799],\n",
       "       [0.        , 1.        ],\n",
       "       [0.79088472, 0.20911528],\n",
       "       [0.        , 1.        ],\n",
       "       [0.98727735, 0.01272265],\n",
       "       [0.09162304, 0.90837696],\n",
       "       [0.78215223, 0.21784777],\n",
       "       [0.11229947, 0.88770053],\n",
       "       [0.99477807, 0.00522193],\n",
       "       [0.86015831, 0.13984169],\n",
       "       [0.00497512, 0.99502488],\n",
       "       [0.07      , 0.93      ],\n",
       "       [0.14248705, 0.85751295],\n",
       "       [0.08776596, 0.91223404],\n",
       "       [0.00269542, 0.99730458],\n",
       "       [0.9811828 , 0.0188172 ],\n",
       "       [0.84715026, 0.15284974],\n",
       "       [0.17914439, 0.82085561],\n",
       "       [0.93229167, 0.06770833],\n",
       "       [0.05583756, 0.94416244],\n",
       "       [0.62698413, 0.37301587],\n",
       "       [0.12634409, 0.87365591],\n",
       "       [0.9602122 , 0.0397878 ],\n",
       "       [0.88520408, 0.11479592],\n",
       "       [0.01078167, 0.98921833],\n",
       "       [0.91145833, 0.08854167],\n",
       "       [0.87087912, 0.12912088],\n",
       "       [0.00537634, 0.99462366],\n",
       "       [0.05989583, 0.94010417],\n",
       "       [1.        , 0.        ],\n",
       "       [0.03116883, 0.96883117],\n",
       "       [0.98637602, 0.01362398],\n",
       "       [0.10933333, 0.89066667],\n",
       "       [0.91578947, 0.08421053],\n",
       "       [1.        , 0.        ],\n",
       "       [0.01886792, 0.98113208],\n",
       "       [0.03645833, 0.96354167],\n",
       "       [0.75888325, 0.24111675],\n",
       "       [0.        , 1.        ],\n",
       "       [0.99739583, 0.00260417],\n",
       "       [0.665     , 0.335     ],\n",
       "       [0.86027397, 0.13972603],\n",
       "       [0.99488491, 0.00511509],\n",
       "       [0.70410959, 0.29589041],\n",
       "       [0.49210526, 0.50789474],\n",
       "       [0.02610966, 0.97389034],\n",
       "       [0.83937824, 0.16062176],\n",
       "       [0.01617251, 0.98382749],\n",
       "       [1.        , 0.        ],\n",
       "       [0.76344086, 0.23655914],\n",
       "       [0.98958333, 0.01041667],\n",
       "       [0.99491094, 0.00508906],\n",
       "       [0.82841823, 0.17158177],\n",
       "       [0.26273458, 0.73726542],\n",
       "       [0.16621984, 0.83378016],\n",
       "       [0.23136247, 0.76863753],\n",
       "       [0.0025641 , 0.9974359 ],\n",
       "       [0.7480315 , 0.2519685 ],\n",
       "       [0.86118252, 0.13881748],\n",
       "       [0.04132231, 0.95867769],\n",
       "       [0.99452055, 0.00547945],\n",
       "       [0.96923077, 0.03076923],\n",
       "       [0.99475066, 0.00524934],\n",
       "       [0.00543478, 0.99456522],\n",
       "       [0.06806283, 0.93193717],\n",
       "       [0.92167102, 0.07832898],\n",
       "       [0.93048128, 0.06951872],\n",
       "       [0.99197861, 0.00802139],\n",
       "       [0.20671835, 0.79328165],\n",
       "       [0.98704663, 0.01295337],\n",
       "       [0.11170213, 0.88829787],\n",
       "       [0.95408163, 0.04591837],\n",
       "       [0.04166667, 0.95833333],\n",
       "       [0.98429319, 0.01570681],\n",
       "       [0.99750623, 0.00249377],\n",
       "       [0.9871134 , 0.0128866 ],\n",
       "       [0.00518135, 0.99481865],\n",
       "       [0.94573643, 0.05426357],\n",
       "       [0.01583113, 0.98416887],\n",
       "       [0.05714286, 0.94285714],\n",
       "       [0.05597964, 0.94402036],\n",
       "       [0.        , 1.        ],\n",
       "       [0.99745547, 0.00254453],\n",
       "       [0.99483204, 0.00516796],\n",
       "       [0.        , 1.        ],\n",
       "       [0.95526316, 0.04473684],\n",
       "       [0.0964467 , 0.9035533 ],\n",
       "       [0.99462366, 0.00537634],\n",
       "       [0.21671018, 0.78328982],\n",
       "       [0.00746269, 0.99253731],\n",
       "       [0.07733333, 0.92266667],\n",
       "       [0.        , 1.        ],\n",
       "       [0.80839895, 0.19160105],\n",
       "       [0.09921671, 0.90078329],\n",
       "       [0.11428571, 0.88571429],\n",
       "       [0.99742931, 0.00257069],\n",
       "       [0.94132653, 0.05867347],\n",
       "       [0.22797927, 0.77202073],\n",
       "       [0.91048593, 0.08951407],\n",
       "       [0.07068063, 0.92931937],\n",
       "       [0.09819121, 0.90180879],\n",
       "       [0.99737533, 0.00262467],\n",
       "       [0.91927083, 0.08072917],\n",
       "       [0.58823529, 0.41176471],\n",
       "       [0.86734694, 0.13265306],\n",
       "       [0.99744898, 0.00255102],\n",
       "       [0.02631579, 0.97368421],\n",
       "       [0.96286472, 0.03713528],\n",
       "       [0.04773869, 0.95226131],\n",
       "       [0.11764706, 0.88235294],\n",
       "       [0.9403794 , 0.0596206 ],\n",
       "       [0.9974359 , 0.0025641 ],\n",
       "       [0.07379135, 0.92620865],\n",
       "       [0.7377892 , 0.2622108 ]])"
      ]
     },
     "execution_count": 15,
     "metadata": {},
     "output_type": "execute_result"
    }
   ],
   "source": [
    "bag_clf.oob_decision_function_"
   ]
  },
  {
   "cell_type": "markdown",
   "id": "6475d6aa-41ca-4803-934f-badd7f62bdfd",
   "metadata": {},
   "source": [
    "# Random Forest"
   ]
  },
  {
   "cell_type": "code",
   "execution_count": 16,
   "id": "ca8eb3d9-46fe-4b21-a2f9-0ff3256e22ee",
   "metadata": {},
   "outputs": [],
   "source": [
    "from sklearn.ensemble import RandomForestClassifier\n",
    "\n",
    "rnd_clf = RandomForestClassifier(n_estimators=500, max_leaf_nodes=16, n_jobs=-1)\n",
    "rnd_clf.fit(X_train, y_train)\n",
    "\n",
    "y_pred_rf = rnd_clf.predict(X_test)"
   ]
  },
  {
   "cell_type": "code",
   "execution_count": 17,
   "id": "c2ab6371-a972-4865-9cab-d153c449612b",
   "metadata": {},
   "outputs": [
    {
     "data": {
      "text/plain": [
       "0.912"
      ]
     },
     "execution_count": 17,
     "metadata": {},
     "output_type": "execute_result"
    }
   ],
   "source": [
    "accuracy_score(y_test, y_pred_rf)"
   ]
  },
  {
   "cell_type": "code",
   "execution_count": 18,
   "id": "77e21f59-6b2a-4f29-afbd-167121f67320",
   "metadata": {},
   "outputs": [],
   "source": [
    "from sklearn.ensemble import ExtraTreesClassifier\n",
    "\n",
    "xtr_clf = ExtraTreesClassifier(n_estimators=500, max_leaf_nodes=16, n_jobs=-1)\n",
    "xtr_clf.fit(X_train, y_train)\n",
    "\n",
    "y_pred_rf = xtr_clf.predict(X_test)"
   ]
  },
  {
   "cell_type": "code",
   "execution_count": 19,
   "id": "2bc06e49-c170-4c1c-a84a-afaf6697f5dc",
   "metadata": {},
   "outputs": [
    {
     "data": {
      "text/plain": [
       "0.912"
      ]
     },
     "execution_count": 19,
     "metadata": {},
     "output_type": "execute_result"
    }
   ],
   "source": [
    "accuracy_score(y_test, y_pred_rf)"
   ]
  },
  {
   "cell_type": "code",
   "execution_count": 20,
   "id": "c1d15a28-1ca4-410d-b90e-bb1dd605d846",
   "metadata": {},
   "outputs": [
    {
     "data": {
      "text/plain": [
       "array([0.42203461, 0.57796539])"
      ]
     },
     "execution_count": 20,
     "metadata": {},
     "output_type": "execute_result"
    }
   ],
   "source": [
    "rnd_clf.feature_importances_"
   ]
  },
  {
   "cell_type": "code",
   "execution_count": 21,
   "id": "2e4d227f-292b-41a6-ae3d-b8b83fb894e1",
   "metadata": {},
   "outputs": [
    {
     "name": "stdout",
     "output_type": "stream",
     "text": [
      "sepal length (cm) 0.10395151961655495\n",
      "sepal width (cm) 0.02354472202876671\n",
      "petal length (cm) 0.4596703414940854\n",
      "petal width (cm) 0.41283341686059294\n"
     ]
    }
   ],
   "source": [
    "from sklearn.datasets import load_iris\n",
    "iris = load_iris()\n",
    "rnd_clf = RandomForestClassifier(n_estimators=500, n_jobs=-1)\n",
    "rnd_clf.fit(iris['data'], iris['target'])\n",
    "for name,  score in zip(iris['feature_names'], rnd_clf.feature_importances_):\n",
    "    print(name, score)"
   ]
  },
  {
   "cell_type": "code",
   "execution_count": null,
   "id": "825f4e0b-9556-44d2-91fe-071841e859a3",
   "metadata": {},
   "outputs": [],
   "source": []
  }
 ],
 "metadata": {
  "kernelspec": {
   "display_name": "Python 3 (ipykernel)",
   "language": "python",
   "name": "python3"
  },
  "language_info": {
   "codemirror_mode": {
    "name": "ipython",
    "version": 3
   },
   "file_extension": ".py",
   "mimetype": "text/x-python",
   "name": "python",
   "nbconvert_exporter": "python",
   "pygments_lexer": "ipython3",
   "version": "3.11.2"
  }
 },
 "nbformat": 4,
 "nbformat_minor": 5
}
