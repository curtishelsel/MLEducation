{
 "cells": [
  {
   "cell_type": "markdown",
   "id": "04bc9cda-4bf8-4803-8cff-61b9c5aca67e",
   "metadata": {},
   "source": [
    "# Ensemble Learning and Randoms Forests"
   ]
  },
  {
   "cell_type": "code",
   "execution_count": 1,
   "id": "c6b09153-1bc0-4433-8dec-2bf386586f38",
   "metadata": {},
   "outputs": [],
   "source": [
    "from sklearn.model_selection import train_test_split\n",
    "from sklearn.datasets import make_moons\n",
    "\n",
    "X, y = make_moons(n_samples=500, noise=0.30, random_state=42)\n",
    "X_train, X_test, y_train, y_test = train_test_split(X, y, random_state=42)"
   ]
  },
  {
   "cell_type": "code",
   "execution_count": 2,
   "id": "d58fc601-ae1f-4d66-9661-1c8a720b58f2",
   "metadata": {},
   "outputs": [],
   "source": [
    "from sklearn.ensemble import RandomForestClassifier\n",
    "from sklearn.ensemble import VotingClassifier\n",
    "from sklearn.linear_model import LogisticRegression\n",
    "from sklearn.svm import SVC"
   ]
  },
  {
   "cell_type": "code",
   "execution_count": 3,
   "id": "e6d096f4-bda9-406c-be0c-7ee68eb18df8",
   "metadata": {},
   "outputs": [],
   "source": [
    "log_clf = LogisticRegression()\n",
    "rnd_clf = RandomForestClassifier()\n",
    "svm_clf = SVC()"
   ]
  },
  {
   "cell_type": "code",
   "execution_count": 4,
   "id": "6701614c-b5b9-4b7b-98d6-2609e698c583",
   "metadata": {},
   "outputs": [
    {
     "data": {
      "text/html": [
       "<style>#sk-container-id-1 {color: black;}#sk-container-id-1 pre{padding: 0;}#sk-container-id-1 div.sk-toggleable {background-color: white;}#sk-container-id-1 label.sk-toggleable__label {cursor: pointer;display: block;width: 100%;margin-bottom: 0;padding: 0.3em;box-sizing: border-box;text-align: center;}#sk-container-id-1 label.sk-toggleable__label-arrow:before {content: \"▸\";float: left;margin-right: 0.25em;color: #696969;}#sk-container-id-1 label.sk-toggleable__label-arrow:hover:before {color: black;}#sk-container-id-1 div.sk-estimator:hover label.sk-toggleable__label-arrow:before {color: black;}#sk-container-id-1 div.sk-toggleable__content {max-height: 0;max-width: 0;overflow: hidden;text-align: left;background-color: #f0f8ff;}#sk-container-id-1 div.sk-toggleable__content pre {margin: 0.2em;color: black;border-radius: 0.25em;background-color: #f0f8ff;}#sk-container-id-1 input.sk-toggleable__control:checked~div.sk-toggleable__content {max-height: 200px;max-width: 100%;overflow: auto;}#sk-container-id-1 input.sk-toggleable__control:checked~label.sk-toggleable__label-arrow:before {content: \"▾\";}#sk-container-id-1 div.sk-estimator input.sk-toggleable__control:checked~label.sk-toggleable__label {background-color: #d4ebff;}#sk-container-id-1 div.sk-label input.sk-toggleable__control:checked~label.sk-toggleable__label {background-color: #d4ebff;}#sk-container-id-1 input.sk-hidden--visually {border: 0;clip: rect(1px 1px 1px 1px);clip: rect(1px, 1px, 1px, 1px);height: 1px;margin: -1px;overflow: hidden;padding: 0;position: absolute;width: 1px;}#sk-container-id-1 div.sk-estimator {font-family: monospace;background-color: #f0f8ff;border: 1px dotted black;border-radius: 0.25em;box-sizing: border-box;margin-bottom: 0.5em;}#sk-container-id-1 div.sk-estimator:hover {background-color: #d4ebff;}#sk-container-id-1 div.sk-parallel-item::after {content: \"\";width: 100%;border-bottom: 1px solid gray;flex-grow: 1;}#sk-container-id-1 div.sk-label:hover label.sk-toggleable__label {background-color: #d4ebff;}#sk-container-id-1 div.sk-serial::before {content: \"\";position: absolute;border-left: 1px solid gray;box-sizing: border-box;top: 0;bottom: 0;left: 50%;z-index: 0;}#sk-container-id-1 div.sk-serial {display: flex;flex-direction: column;align-items: center;background-color: white;padding-right: 0.2em;padding-left: 0.2em;position: relative;}#sk-container-id-1 div.sk-item {position: relative;z-index: 1;}#sk-container-id-1 div.sk-parallel {display: flex;align-items: stretch;justify-content: center;background-color: white;position: relative;}#sk-container-id-1 div.sk-item::before, #sk-container-id-1 div.sk-parallel-item::before {content: \"\";position: absolute;border-left: 1px solid gray;box-sizing: border-box;top: 0;bottom: 0;left: 50%;z-index: -1;}#sk-container-id-1 div.sk-parallel-item {display: flex;flex-direction: column;z-index: 1;position: relative;background-color: white;}#sk-container-id-1 div.sk-parallel-item:first-child::after {align-self: flex-end;width: 50%;}#sk-container-id-1 div.sk-parallel-item:last-child::after {align-self: flex-start;width: 50%;}#sk-container-id-1 div.sk-parallel-item:only-child::after {width: 0;}#sk-container-id-1 div.sk-dashed-wrapped {border: 1px dashed gray;margin: 0 0.4em 0.5em 0.4em;box-sizing: border-box;padding-bottom: 0.4em;background-color: white;}#sk-container-id-1 div.sk-label label {font-family: monospace;font-weight: bold;display: inline-block;line-height: 1.2em;}#sk-container-id-1 div.sk-label-container {text-align: center;}#sk-container-id-1 div.sk-container {/* jupyter's `normalize.less` sets `[hidden] { display: none; }` but bootstrap.min.css set `[hidden] { display: none !important; }` so we also need the `!important` here to be able to override the default hidden behavior on the sphinx rendered scikit-learn.org. See: https://github.com/scikit-learn/scikit-learn/issues/21755 */display: inline-block !important;position: relative;}#sk-container-id-1 div.sk-text-repr-fallback {display: none;}</style><div id=\"sk-container-id-1\" class=\"sk-top-container\"><div class=\"sk-text-repr-fallback\"><pre>VotingClassifier(estimators=[(&#x27;lr&#x27;, LogisticRegression()),\n",
       "                             (&#x27;rf&#x27;, RandomForestClassifier()), (&#x27;svc&#x27;, SVC())])</pre><b>In a Jupyter environment, please rerun this cell to show the HTML representation or trust the notebook. <br />On GitHub, the HTML representation is unable to render, please try loading this page with nbviewer.org.</b></div><div class=\"sk-container\" hidden><div class=\"sk-item sk-dashed-wrapped\"><div class=\"sk-label-container\"><div class=\"sk-label sk-toggleable\"><input class=\"sk-toggleable__control sk-hidden--visually\" id=\"sk-estimator-id-1\" type=\"checkbox\" ><label for=\"sk-estimator-id-1\" class=\"sk-toggleable__label sk-toggleable__label-arrow\">VotingClassifier</label><div class=\"sk-toggleable__content\"><pre>VotingClassifier(estimators=[(&#x27;lr&#x27;, LogisticRegression()),\n",
       "                             (&#x27;rf&#x27;, RandomForestClassifier()), (&#x27;svc&#x27;, SVC())])</pre></div></div></div><div class=\"sk-parallel\"><div class=\"sk-parallel-item\"><div class=\"sk-item\"><div class=\"sk-label-container\"><div class=\"sk-label sk-toggleable\"><label>lr</label></div></div><div class=\"sk-serial\"><div class=\"sk-item\"><div class=\"sk-estimator sk-toggleable\"><input class=\"sk-toggleable__control sk-hidden--visually\" id=\"sk-estimator-id-2\" type=\"checkbox\" ><label for=\"sk-estimator-id-2\" class=\"sk-toggleable__label sk-toggleable__label-arrow\">LogisticRegression</label><div class=\"sk-toggleable__content\"><pre>LogisticRegression()</pre></div></div></div></div></div></div><div class=\"sk-parallel-item\"><div class=\"sk-item\"><div class=\"sk-label-container\"><div class=\"sk-label sk-toggleable\"><label>rf</label></div></div><div class=\"sk-serial\"><div class=\"sk-item\"><div class=\"sk-estimator sk-toggleable\"><input class=\"sk-toggleable__control sk-hidden--visually\" id=\"sk-estimator-id-3\" type=\"checkbox\" ><label for=\"sk-estimator-id-3\" class=\"sk-toggleable__label sk-toggleable__label-arrow\">RandomForestClassifier</label><div class=\"sk-toggleable__content\"><pre>RandomForestClassifier()</pre></div></div></div></div></div></div><div class=\"sk-parallel-item\"><div class=\"sk-item\"><div class=\"sk-label-container\"><div class=\"sk-label sk-toggleable\"><label>svc</label></div></div><div class=\"sk-serial\"><div class=\"sk-item\"><div class=\"sk-estimator sk-toggleable\"><input class=\"sk-toggleable__control sk-hidden--visually\" id=\"sk-estimator-id-4\" type=\"checkbox\" ><label for=\"sk-estimator-id-4\" class=\"sk-toggleable__label sk-toggleable__label-arrow\">SVC</label><div class=\"sk-toggleable__content\"><pre>SVC()</pre></div></div></div></div></div></div></div></div></div></div>"
      ],
      "text/plain": [
       "VotingClassifier(estimators=[('lr', LogisticRegression()),\n",
       "                             ('rf', RandomForestClassifier()), ('svc', SVC())])"
      ]
     },
     "execution_count": 4,
     "metadata": {},
     "output_type": "execute_result"
    }
   ],
   "source": [
    "voting_clf = VotingClassifier(\n",
    "    estimators = [('lr', log_clf), ('rf', rnd_clf), ('svc', svm_clf)], voting='hard')\n",
    "\n",
    "voting_clf.fit(X_train, y_train)"
   ]
  },
  {
   "cell_type": "code",
   "execution_count": 5,
   "id": "bbcc1a7e-69e0-41f7-8b4d-2be19f2992d8",
   "metadata": {},
   "outputs": [
    {
     "name": "stdout",
     "output_type": "stream",
     "text": [
      "LogisticRegression 0.864\n",
      "RandomForestClassifier 0.896\n",
      "SVC 0.896\n",
      "VotingClassifier 0.904\n"
     ]
    }
   ],
   "source": [
    "from sklearn.metrics import accuracy_score\n",
    "\n",
    "for clf in (log_clf, rnd_clf, svm_clf, voting_clf):\n",
    "    clf.fit(X_train, y_train)\n",
    "    y_pred = clf.predict(X_test)\n",
    "    print(clf.__class__.__name__, accuracy_score(y_test, y_pred))"
   ]
  },
  {
   "cell_type": "code",
   "execution_count": 6,
   "id": "52a23f80-fca0-4a0d-9ebf-2be0e850ce30",
   "metadata": {},
   "outputs": [],
   "source": [
    "svm_clf_prob = SVC(probability=True)"
   ]
  },
  {
   "cell_type": "code",
   "execution_count": 7,
   "id": "23530de5-c382-4077-845c-b6b7c90138b0",
   "metadata": {},
   "outputs": [
    {
     "data": {
      "text/html": [
       "<style>#sk-container-id-2 {color: black;}#sk-container-id-2 pre{padding: 0;}#sk-container-id-2 div.sk-toggleable {background-color: white;}#sk-container-id-2 label.sk-toggleable__label {cursor: pointer;display: block;width: 100%;margin-bottom: 0;padding: 0.3em;box-sizing: border-box;text-align: center;}#sk-container-id-2 label.sk-toggleable__label-arrow:before {content: \"▸\";float: left;margin-right: 0.25em;color: #696969;}#sk-container-id-2 label.sk-toggleable__label-arrow:hover:before {color: black;}#sk-container-id-2 div.sk-estimator:hover label.sk-toggleable__label-arrow:before {color: black;}#sk-container-id-2 div.sk-toggleable__content {max-height: 0;max-width: 0;overflow: hidden;text-align: left;background-color: #f0f8ff;}#sk-container-id-2 div.sk-toggleable__content pre {margin: 0.2em;color: black;border-radius: 0.25em;background-color: #f0f8ff;}#sk-container-id-2 input.sk-toggleable__control:checked~div.sk-toggleable__content {max-height: 200px;max-width: 100%;overflow: auto;}#sk-container-id-2 input.sk-toggleable__control:checked~label.sk-toggleable__label-arrow:before {content: \"▾\";}#sk-container-id-2 div.sk-estimator input.sk-toggleable__control:checked~label.sk-toggleable__label {background-color: #d4ebff;}#sk-container-id-2 div.sk-label input.sk-toggleable__control:checked~label.sk-toggleable__label {background-color: #d4ebff;}#sk-container-id-2 input.sk-hidden--visually {border: 0;clip: rect(1px 1px 1px 1px);clip: rect(1px, 1px, 1px, 1px);height: 1px;margin: -1px;overflow: hidden;padding: 0;position: absolute;width: 1px;}#sk-container-id-2 div.sk-estimator {font-family: monospace;background-color: #f0f8ff;border: 1px dotted black;border-radius: 0.25em;box-sizing: border-box;margin-bottom: 0.5em;}#sk-container-id-2 div.sk-estimator:hover {background-color: #d4ebff;}#sk-container-id-2 div.sk-parallel-item::after {content: \"\";width: 100%;border-bottom: 1px solid gray;flex-grow: 1;}#sk-container-id-2 div.sk-label:hover label.sk-toggleable__label {background-color: #d4ebff;}#sk-container-id-2 div.sk-serial::before {content: \"\";position: absolute;border-left: 1px solid gray;box-sizing: border-box;top: 0;bottom: 0;left: 50%;z-index: 0;}#sk-container-id-2 div.sk-serial {display: flex;flex-direction: column;align-items: center;background-color: white;padding-right: 0.2em;padding-left: 0.2em;position: relative;}#sk-container-id-2 div.sk-item {position: relative;z-index: 1;}#sk-container-id-2 div.sk-parallel {display: flex;align-items: stretch;justify-content: center;background-color: white;position: relative;}#sk-container-id-2 div.sk-item::before, #sk-container-id-2 div.sk-parallel-item::before {content: \"\";position: absolute;border-left: 1px solid gray;box-sizing: border-box;top: 0;bottom: 0;left: 50%;z-index: -1;}#sk-container-id-2 div.sk-parallel-item {display: flex;flex-direction: column;z-index: 1;position: relative;background-color: white;}#sk-container-id-2 div.sk-parallel-item:first-child::after {align-self: flex-end;width: 50%;}#sk-container-id-2 div.sk-parallel-item:last-child::after {align-self: flex-start;width: 50%;}#sk-container-id-2 div.sk-parallel-item:only-child::after {width: 0;}#sk-container-id-2 div.sk-dashed-wrapped {border: 1px dashed gray;margin: 0 0.4em 0.5em 0.4em;box-sizing: border-box;padding-bottom: 0.4em;background-color: white;}#sk-container-id-2 div.sk-label label {font-family: monospace;font-weight: bold;display: inline-block;line-height: 1.2em;}#sk-container-id-2 div.sk-label-container {text-align: center;}#sk-container-id-2 div.sk-container {/* jupyter's `normalize.less` sets `[hidden] { display: none; }` but bootstrap.min.css set `[hidden] { display: none !important; }` so we also need the `!important` here to be able to override the default hidden behavior on the sphinx rendered scikit-learn.org. See: https://github.com/scikit-learn/scikit-learn/issues/21755 */display: inline-block !important;position: relative;}#sk-container-id-2 div.sk-text-repr-fallback {display: none;}</style><div id=\"sk-container-id-2\" class=\"sk-top-container\"><div class=\"sk-text-repr-fallback\"><pre>VotingClassifier(estimators=[(&#x27;lr&#x27;, LogisticRegression()),\n",
       "                             (&#x27;rf&#x27;, RandomForestClassifier()), (&#x27;svc&#x27;, SVC())])</pre><b>In a Jupyter environment, please rerun this cell to show the HTML representation or trust the notebook. <br />On GitHub, the HTML representation is unable to render, please try loading this page with nbviewer.org.</b></div><div class=\"sk-container\" hidden><div class=\"sk-item sk-dashed-wrapped\"><div class=\"sk-label-container\"><div class=\"sk-label sk-toggleable\"><input class=\"sk-toggleable__control sk-hidden--visually\" id=\"sk-estimator-id-5\" type=\"checkbox\" ><label for=\"sk-estimator-id-5\" class=\"sk-toggleable__label sk-toggleable__label-arrow\">VotingClassifier</label><div class=\"sk-toggleable__content\"><pre>VotingClassifier(estimators=[(&#x27;lr&#x27;, LogisticRegression()),\n",
       "                             (&#x27;rf&#x27;, RandomForestClassifier()), (&#x27;svc&#x27;, SVC())])</pre></div></div></div><div class=\"sk-parallel\"><div class=\"sk-parallel-item\"><div class=\"sk-item\"><div class=\"sk-label-container\"><div class=\"sk-label sk-toggleable\"><label>lr</label></div></div><div class=\"sk-serial\"><div class=\"sk-item\"><div class=\"sk-estimator sk-toggleable\"><input class=\"sk-toggleable__control sk-hidden--visually\" id=\"sk-estimator-id-6\" type=\"checkbox\" ><label for=\"sk-estimator-id-6\" class=\"sk-toggleable__label sk-toggleable__label-arrow\">LogisticRegression</label><div class=\"sk-toggleable__content\"><pre>LogisticRegression()</pre></div></div></div></div></div></div><div class=\"sk-parallel-item\"><div class=\"sk-item\"><div class=\"sk-label-container\"><div class=\"sk-label sk-toggleable\"><label>rf</label></div></div><div class=\"sk-serial\"><div class=\"sk-item\"><div class=\"sk-estimator sk-toggleable\"><input class=\"sk-toggleable__control sk-hidden--visually\" id=\"sk-estimator-id-7\" type=\"checkbox\" ><label for=\"sk-estimator-id-7\" class=\"sk-toggleable__label sk-toggleable__label-arrow\">RandomForestClassifier</label><div class=\"sk-toggleable__content\"><pre>RandomForestClassifier()</pre></div></div></div></div></div></div><div class=\"sk-parallel-item\"><div class=\"sk-item\"><div class=\"sk-label-container\"><div class=\"sk-label sk-toggleable\"><label>svc</label></div></div><div class=\"sk-serial\"><div class=\"sk-item\"><div class=\"sk-estimator sk-toggleable\"><input class=\"sk-toggleable__control sk-hidden--visually\" id=\"sk-estimator-id-8\" type=\"checkbox\" ><label for=\"sk-estimator-id-8\" class=\"sk-toggleable__label sk-toggleable__label-arrow\">SVC</label><div class=\"sk-toggleable__content\"><pre>SVC()</pre></div></div></div></div></div></div></div></div></div></div>"
      ],
      "text/plain": [
       "VotingClassifier(estimators=[('lr', LogisticRegression()),\n",
       "                             ('rf', RandomForestClassifier()), ('svc', SVC())])"
      ]
     },
     "execution_count": 7,
     "metadata": {},
     "output_type": "execute_result"
    }
   ],
   "source": [
    "voting_clf_prob = VotingClassifier(\n",
    "    estimators = [('lr', log_clf), ('rf', rnd_clf), ('svc', svm_clf_prob)], voting='soft')\n",
    "\n",
    "voting_clf.fit(X_train, y_train)"
   ]
  },
  {
   "cell_type": "code",
   "execution_count": 8,
   "id": "a54bb762-67f1-4544-b34a-253c4eaabf8f",
   "metadata": {},
   "outputs": [
    {
     "name": "stdout",
     "output_type": "stream",
     "text": [
      "LogisticRegression 0.864\n",
      "RandomForestClassifier 0.896\n",
      "SVC 0.896\n",
      "VotingClassifier 0.912\n"
     ]
    }
   ],
   "source": [
    "from sklearn.metrics import accuracy_score\n",
    "\n",
    "for clf in (log_clf, rnd_clf, svm_clf_prob, voting_clf_prob):\n",
    "    clf.fit(X_train, y_train)\n",
    "    y_pred = clf.predict(X_test)\n",
    "    print(clf.__class__.__name__, accuracy_score(y_test, y_pred))"
   ]
  },
  {
   "cell_type": "markdown",
   "id": "f0a9782c-77fe-4c7c-96b9-4258f6fc65d4",
   "metadata": {},
   "source": [
    "# Bagging and Pasting"
   ]
  },
  {
   "cell_type": "code",
   "execution_count": 9,
   "id": "ab1b632c-b56a-46a0-ad8c-14f415c8f62f",
   "metadata": {},
   "outputs": [],
   "source": [
    "from sklearn.ensemble import BaggingClassifier\n",
    "from sklearn.tree import DecisionTreeClassifier\n",
    "\n",
    "bag_clf = BaggingClassifier(\n",
    "    DecisionTreeClassifier(), n_estimators=500,\n",
    "    max_samples=100, bootstrap=True, n_jobs=-1)\n",
    "\n",
    "bag_clf.fit(X_train, y_train)\n",
    "y_pred = bag_clf.predict(X_test)"
   ]
  },
  {
   "cell_type": "code",
   "execution_count": 10,
   "id": "e1fa1b99-976e-4f7b-9959-ab59f0520a7f",
   "metadata": {},
   "outputs": [],
   "source": [
    "bag_clf = BaggingClassifier(\n",
    "    DecisionTreeClassifier(), n_estimators=500,\n",
    "    max_samples=100, bootstrap=True, n_jobs=-1, oob_score=True)"
   ]
  },
  {
   "cell_type": "code",
   "execution_count": 12,
   "id": "fcd2c242-bd65-43bc-90f8-c0d72f2206ea",
   "metadata": {},
   "outputs": [
    {
     "data": {
      "text/html": [
       "<style>#sk-container-id-4 {color: black;}#sk-container-id-4 pre{padding: 0;}#sk-container-id-4 div.sk-toggleable {background-color: white;}#sk-container-id-4 label.sk-toggleable__label {cursor: pointer;display: block;width: 100%;margin-bottom: 0;padding: 0.3em;box-sizing: border-box;text-align: center;}#sk-container-id-4 label.sk-toggleable__label-arrow:before {content: \"▸\";float: left;margin-right: 0.25em;color: #696969;}#sk-container-id-4 label.sk-toggleable__label-arrow:hover:before {color: black;}#sk-container-id-4 div.sk-estimator:hover label.sk-toggleable__label-arrow:before {color: black;}#sk-container-id-4 div.sk-toggleable__content {max-height: 0;max-width: 0;overflow: hidden;text-align: left;background-color: #f0f8ff;}#sk-container-id-4 div.sk-toggleable__content pre {margin: 0.2em;color: black;border-radius: 0.25em;background-color: #f0f8ff;}#sk-container-id-4 input.sk-toggleable__control:checked~div.sk-toggleable__content {max-height: 200px;max-width: 100%;overflow: auto;}#sk-container-id-4 input.sk-toggleable__control:checked~label.sk-toggleable__label-arrow:before {content: \"▾\";}#sk-container-id-4 div.sk-estimator input.sk-toggleable__control:checked~label.sk-toggleable__label {background-color: #d4ebff;}#sk-container-id-4 div.sk-label input.sk-toggleable__control:checked~label.sk-toggleable__label {background-color: #d4ebff;}#sk-container-id-4 input.sk-hidden--visually {border: 0;clip: rect(1px 1px 1px 1px);clip: rect(1px, 1px, 1px, 1px);height: 1px;margin: -1px;overflow: hidden;padding: 0;position: absolute;width: 1px;}#sk-container-id-4 div.sk-estimator {font-family: monospace;background-color: #f0f8ff;border: 1px dotted black;border-radius: 0.25em;box-sizing: border-box;margin-bottom: 0.5em;}#sk-container-id-4 div.sk-estimator:hover {background-color: #d4ebff;}#sk-container-id-4 div.sk-parallel-item::after {content: \"\";width: 100%;border-bottom: 1px solid gray;flex-grow: 1;}#sk-container-id-4 div.sk-label:hover label.sk-toggleable__label {background-color: #d4ebff;}#sk-container-id-4 div.sk-serial::before {content: \"\";position: absolute;border-left: 1px solid gray;box-sizing: border-box;top: 0;bottom: 0;left: 50%;z-index: 0;}#sk-container-id-4 div.sk-serial {display: flex;flex-direction: column;align-items: center;background-color: white;padding-right: 0.2em;padding-left: 0.2em;position: relative;}#sk-container-id-4 div.sk-item {position: relative;z-index: 1;}#sk-container-id-4 div.sk-parallel {display: flex;align-items: stretch;justify-content: center;background-color: white;position: relative;}#sk-container-id-4 div.sk-item::before, #sk-container-id-4 div.sk-parallel-item::before {content: \"\";position: absolute;border-left: 1px solid gray;box-sizing: border-box;top: 0;bottom: 0;left: 50%;z-index: -1;}#sk-container-id-4 div.sk-parallel-item {display: flex;flex-direction: column;z-index: 1;position: relative;background-color: white;}#sk-container-id-4 div.sk-parallel-item:first-child::after {align-self: flex-end;width: 50%;}#sk-container-id-4 div.sk-parallel-item:last-child::after {align-self: flex-start;width: 50%;}#sk-container-id-4 div.sk-parallel-item:only-child::after {width: 0;}#sk-container-id-4 div.sk-dashed-wrapped {border: 1px dashed gray;margin: 0 0.4em 0.5em 0.4em;box-sizing: border-box;padding-bottom: 0.4em;background-color: white;}#sk-container-id-4 div.sk-label label {font-family: monospace;font-weight: bold;display: inline-block;line-height: 1.2em;}#sk-container-id-4 div.sk-label-container {text-align: center;}#sk-container-id-4 div.sk-container {/* jupyter's `normalize.less` sets `[hidden] { display: none; }` but bootstrap.min.css set `[hidden] { display: none !important; }` so we also need the `!important` here to be able to override the default hidden behavior on the sphinx rendered scikit-learn.org. See: https://github.com/scikit-learn/scikit-learn/issues/21755 */display: inline-block !important;position: relative;}#sk-container-id-4 div.sk-text-repr-fallback {display: none;}</style><div id=\"sk-container-id-4\" class=\"sk-top-container\"><div class=\"sk-text-repr-fallback\"><pre>BaggingClassifier(estimator=DecisionTreeClassifier(), max_samples=100,\n",
       "                  n_estimators=500, n_jobs=-1, oob_score=True)</pre><b>In a Jupyter environment, please rerun this cell to show the HTML representation or trust the notebook. <br />On GitHub, the HTML representation is unable to render, please try loading this page with nbviewer.org.</b></div><div class=\"sk-container\" hidden><div class=\"sk-item sk-dashed-wrapped\"><div class=\"sk-label-container\"><div class=\"sk-label sk-toggleable\"><input class=\"sk-toggleable__control sk-hidden--visually\" id=\"sk-estimator-id-12\" type=\"checkbox\" ><label for=\"sk-estimator-id-12\" class=\"sk-toggleable__label sk-toggleable__label-arrow\">BaggingClassifier</label><div class=\"sk-toggleable__content\"><pre>BaggingClassifier(estimator=DecisionTreeClassifier(), max_samples=100,\n",
       "                  n_estimators=500, n_jobs=-1, oob_score=True)</pre></div></div></div><div class=\"sk-parallel\"><div class=\"sk-parallel-item\"><div class=\"sk-item\"><div class=\"sk-label-container\"><div class=\"sk-label sk-toggleable\"><input class=\"sk-toggleable__control sk-hidden--visually\" id=\"sk-estimator-id-13\" type=\"checkbox\" ><label for=\"sk-estimator-id-13\" class=\"sk-toggleable__label sk-toggleable__label-arrow\">estimator: DecisionTreeClassifier</label><div class=\"sk-toggleable__content\"><pre>DecisionTreeClassifier()</pre></div></div></div><div class=\"sk-serial\"><div class=\"sk-item\"><div class=\"sk-estimator sk-toggleable\"><input class=\"sk-toggleable__control sk-hidden--visually\" id=\"sk-estimator-id-14\" type=\"checkbox\" ><label for=\"sk-estimator-id-14\" class=\"sk-toggleable__label sk-toggleable__label-arrow\">DecisionTreeClassifier</label><div class=\"sk-toggleable__content\"><pre>DecisionTreeClassifier()</pre></div></div></div></div></div></div></div></div></div></div>"
      ],
      "text/plain": [
       "BaggingClassifier(estimator=DecisionTreeClassifier(), max_samples=100,\n",
       "                  n_estimators=500, n_jobs=-1, oob_score=True)"
      ]
     },
     "execution_count": 12,
     "metadata": {},
     "output_type": "execute_result"
    }
   ],
   "source": [
    "bag_clf.fit(X_train, y_train)"
   ]
  },
  {
   "cell_type": "code",
   "execution_count": 15,
   "id": "8c947f59-3005-4bdf-9a63-73f950fb0f6c",
   "metadata": {},
   "outputs": [
    {
     "data": {
      "text/plain": [
       "0.92"
      ]
     },
     "execution_count": 15,
     "metadata": {},
     "output_type": "execute_result"
    }
   ],
   "source": [
    "bag_clf.oob_score_"
   ]
  },
  {
   "cell_type": "code",
   "execution_count": 16,
   "id": "e148ae6c-c148-4b69-8098-e8f62a88b7bd",
   "metadata": {},
   "outputs": [],
   "source": [
    "from sklearn.metrics import accuracy_score\n",
    "y_pred = bag_clf.predict(X_test)"
   ]
  },
  {
   "cell_type": "code",
   "execution_count": 17,
   "id": "d49b1c6f-1b60-49c2-b8c0-fc12b47c5aba",
   "metadata": {},
   "outputs": [
    {
     "data": {
      "text/plain": [
       "0.904"
      ]
     },
     "execution_count": 17,
     "metadata": {},
     "output_type": "execute_result"
    }
   ],
   "source": [
    "accuracy_score(y_test, y_pred)"
   ]
  },
  {
   "cell_type": "code",
   "execution_count": 20,
   "id": "b875837e-25b4-4c58-b15c-0c8404856805",
   "metadata": {},
   "outputs": [
    {
     "data": {
      "text/plain": [
       "array([[0.36411609, 0.63588391],\n",
       "       [0.4296875 , 0.5703125 ],\n",
       "       [0.99742268, 0.00257732],\n",
       "       [0.00787402, 0.99212598],\n",
       "       [0.0234375 , 0.9765625 ],\n",
       "       [0.11345646, 0.88654354],\n",
       "       [0.38242894, 0.61757106],\n",
       "       [0.05555556, 0.94444444],\n",
       "       [0.9343832 , 0.0656168 ],\n",
       "       [0.83244681, 0.16755319],\n",
       "       [0.56763926, 0.43236074],\n",
       "       [0.02425876, 0.97574124],\n",
       "       [0.7486911 , 0.2513089 ],\n",
       "       [0.82170543, 0.17829457],\n",
       "       [0.91161616, 0.08838384],\n",
       "       [0.08205128, 0.91794872],\n",
       "       [0.02791878, 0.97208122],\n",
       "       [0.92525773, 0.07474227],\n",
       "       [0.65796345, 0.34203655],\n",
       "       [0.95490716, 0.04509284],\n",
       "       [0.04155844, 0.95844156],\n",
       "       [0.24164524, 0.75835476],\n",
       "       [0.86563307, 0.13436693],\n",
       "       [0.98123324, 0.01876676],\n",
       "       [0.96124031, 0.03875969],\n",
       "       [0.00539084, 0.99460916],\n",
       "       [0.95360825, 0.04639175],\n",
       "       [0.99744246, 0.00255754],\n",
       "       [0.02133333, 0.97866667],\n",
       "       [0.70914127, 0.29085873],\n",
       "       [0.        , 1.        ],\n",
       "       [0.99750623, 0.00249377],\n",
       "       [0.01081081, 0.98918919],\n",
       "       [0.08913649, 0.91086351],\n",
       "       [0.07969152, 0.92030848],\n",
       "       [0.96363636, 0.03636364],\n",
       "       [0.0132626 , 0.9867374 ],\n",
       "       [0.54973822, 0.45026178],\n",
       "       [0.00257069, 0.99742931],\n",
       "       [0.99481865, 0.00518135],\n",
       "       [0.07286432, 0.92713568],\n",
       "       [0.36597938, 0.63402062],\n",
       "       [0.9921875 , 0.0078125 ],\n",
       "       [0.97866667, 0.02133333],\n",
       "       [0.        , 1.        ],\n",
       "       [0.99741602, 0.00258398],\n",
       "       [0.99744898, 0.00255102],\n",
       "       [0.0492228 , 0.9507772 ],\n",
       "       [0.98172324, 0.01827676],\n",
       "       [0.0388601 , 0.9611399 ],\n",
       "       [0.93782383, 0.06217617],\n",
       "       [0.81648936, 0.18351064],\n",
       "       [0.91466667, 0.08533333],\n",
       "       [0.80697051, 0.19302949],\n",
       "       [0.05357143, 0.94642857],\n",
       "       [0.09358289, 0.90641711],\n",
       "       [0.85340314, 0.14659686],\n",
       "       [0.03030303, 0.96969697],\n",
       "       [0.01570681, 0.98429319],\n",
       "       [0.0474934 , 0.9525066 ],\n",
       "       [0.86597938, 0.13402062],\n",
       "       [0.65561224, 0.34438776],\n",
       "       [0.71989529, 0.28010471],\n",
       "       [0.98734177, 0.01265823],\n",
       "       [0.01282051, 0.98717949],\n",
       "       [0.78238342, 0.21761658],\n",
       "       [0.97900262, 0.02099738],\n",
       "       [0.98655914, 0.01344086],\n",
       "       [0.60677083, 0.39322917],\n",
       "       [0.9721519 , 0.0278481 ],\n",
       "       [0.36939314, 0.63060686],\n",
       "       [0.29722222, 0.70277778],\n",
       "       [0.35509138, 0.64490862],\n",
       "       [0.65517241, 0.34482759],\n",
       "       [0.00268097, 0.99731903],\n",
       "       [0.31794872, 0.68205128],\n",
       "       [0.87862797, 0.12137203],\n",
       "       [0.9973822 , 0.0026178 ],\n",
       "       [0.02072539, 0.97927461],\n",
       "       [0.94354839, 0.05645161],\n",
       "       [0.00791557, 0.99208443],\n",
       "       [0.22305764, 0.77694236],\n",
       "       [0.1377551 , 0.8622449 ],\n",
       "       [0.47692308, 0.52307692],\n",
       "       [0.99475066, 0.00524934],\n",
       "       [0.03896104, 0.96103896],\n",
       "       [0.6025641 , 0.3974359 ],\n",
       "       [0.06504065, 0.93495935],\n",
       "       [0.032     , 0.968     ],\n",
       "       [0.        , 1.        ],\n",
       "       [0.33074935, 0.66925065],\n",
       "       [0.99736842, 0.00263158],\n",
       "       [0.00536193, 0.99463807],\n",
       "       [0.03174603, 0.96825397],\n",
       "       [0.01626016, 0.98373984],\n",
       "       [0.78167116, 0.21832884],\n",
       "       [0.68717949, 0.31282051],\n",
       "       [0.046875  , 0.953125  ],\n",
       "       [0.9973822 , 0.0026178 ],\n",
       "       [0.34020619, 0.65979381],\n",
       "       [0.69444444, 0.30555556],\n",
       "       [0.01017812, 0.98982188],\n",
       "       [0.08616188, 0.91383812],\n",
       "       [0.42780749, 0.57219251],\n",
       "       [0.97179487, 0.02820513],\n",
       "       [0.07219251, 0.92780749],\n",
       "       [0.98701299, 0.01298701],\n",
       "       [0.40920097, 0.59079903],\n",
       "       [0.29066667, 0.70933333],\n",
       "       [0.99744246, 0.00255754],\n",
       "       [0.23684211, 0.76315789],\n",
       "       [0.83896104, 0.16103896],\n",
       "       [0.24064171, 0.75935829],\n",
       "       [0.75590551, 0.24409449],\n",
       "       [0.98961039, 0.01038961],\n",
       "       [0.99488491, 0.00511509],\n",
       "       [0.        , 1.        ],\n",
       "       [0.00259067, 0.99740933],\n",
       "       [0.4275    , 0.5725    ],\n",
       "       [0.99212598, 0.00787402],\n",
       "       [0.0625    , 0.9375    ],\n",
       "       [0.98955614, 0.01044386],\n",
       "       [0.96578947, 0.03421053],\n",
       "       [0.99740933, 0.00259067],\n",
       "       [0.93349754, 0.06650246],\n",
       "       [0.97319035, 0.02680965],\n",
       "       [0.04834606, 0.95165394],\n",
       "       [0.92030848, 0.07969152],\n",
       "       [0.96143959, 0.03856041],\n",
       "       [0.0104712 , 0.9895288 ],\n",
       "       [0.225     , 0.775     ],\n",
       "       [0.8516624 , 0.1483376 ],\n",
       "       [0.39583333, 0.60416667],\n",
       "       [0.90296496, 0.09703504],\n",
       "       [0.00263852, 0.99736148],\n",
       "       [0.07368421, 0.92631579],\n",
       "       [0.82573727, 0.17426273],\n",
       "       [0.74670185, 0.25329815],\n",
       "       [0.55612245, 0.44387755],\n",
       "       [0.85602094, 0.14397906],\n",
       "       [0.92513369, 0.07486631],\n",
       "       [0.09574468, 0.90425532],\n",
       "       [0.76086957, 0.23913043],\n",
       "       [0.03856041, 0.96143959],\n",
       "       [0.00263158, 0.99736842],\n",
       "       [0.11167513, 0.88832487],\n",
       "       [0.7962963 , 0.2037037 ],\n",
       "       [0.96083551, 0.03916449],\n",
       "       [0.99730458, 0.00269542],\n",
       "       [0.04774536, 0.95225464],\n",
       "       [0.        , 1.        ],\n",
       "       [0.08051948, 0.91948052],\n",
       "       [0.04521277, 0.95478723],\n",
       "       [0.99234694, 0.00765306],\n",
       "       [0.97193878, 0.02806122],\n",
       "       [0.89361702, 0.10638298],\n",
       "       [0.99465241, 0.00534759],\n",
       "       [0.99738903, 0.00261097],\n",
       "       [0.90052356, 0.09947644],\n",
       "       [0.00777202, 0.99222798],\n",
       "       [0.67258883, 0.32741117],\n",
       "       [0.28860759, 0.71139241],\n",
       "       [0.04787234, 0.95212766],\n",
       "       [0.01538462, 0.98461538],\n",
       "       [0.36968085, 0.63031915],\n",
       "       [0.99737533, 0.00262467],\n",
       "       [0.95355191, 0.04644809],\n",
       "       [0.        , 1.        ],\n",
       "       [0.984     , 0.016     ],\n",
       "       [0.02617801, 0.97382199],\n",
       "       [0.00530504, 0.99469496],\n",
       "       [0.93333333, 0.06666667],\n",
       "       [0.00773196, 0.99226804],\n",
       "       [0.        , 1.        ],\n",
       "       [0.99738903, 0.00261097],\n",
       "       [0.03532609, 0.96467391],\n",
       "       [0.79784367, 0.20215633],\n",
       "       [0.91246684, 0.08753316],\n",
       "       [0.04359673, 0.95640327],\n",
       "       [0.94858612, 0.05141388],\n",
       "       [0.91032609, 0.08967391],\n",
       "       [0.97662338, 0.02337662],\n",
       "       [0.03846154, 0.96153846],\n",
       "       [0.01604278, 0.98395722],\n",
       "       [0.99481865, 0.00518135],\n",
       "       [0.25505051, 0.74494949],\n",
       "       [0.9872449 , 0.0127551 ],\n",
       "       [0.10714286, 0.89285714],\n",
       "       [0.01503759, 0.98496241],\n",
       "       [0.98659517, 0.01340483],\n",
       "       [0.        , 1.        ],\n",
       "       [0.20108696, 0.79891304],\n",
       "       [0.89430894, 0.10569106],\n",
       "       [0.8787062 , 0.1212938 ],\n",
       "       [0.65633075, 0.34366925],\n",
       "       [0.6462766 , 0.3537234 ],\n",
       "       [0.01799486, 0.98200514],\n",
       "       [0.203125  , 0.796875  ],\n",
       "       [0.98429319, 0.01570681],\n",
       "       [0.91029024, 0.08970976],\n",
       "       [0.91139241, 0.08860759],\n",
       "       [0.97002725, 0.02997275],\n",
       "       [0.04699739, 0.95300261],\n",
       "       [0.00815217, 0.99184783],\n",
       "       [0.08266667, 0.91733333],\n",
       "       [0.4398977 , 0.5601023 ],\n",
       "       [0.        , 1.        ],\n",
       "       [0.01496259, 0.98503741],\n",
       "       [0.95392954, 0.04607046],\n",
       "       [0.08268734, 0.91731266],\n",
       "       [0.1005291 , 0.8994709 ],\n",
       "       [0.8814433 , 0.1185567 ],\n",
       "       [0.05540897, 0.94459103],\n",
       "       [0.37817259, 0.62182741],\n",
       "       [0.00274725, 0.99725275],\n",
       "       [0.99742931, 0.00257069],\n",
       "       [0.00793651, 0.99206349],\n",
       "       [0.00269542, 0.99730458],\n",
       "       [0.9025641 , 0.0974359 ],\n",
       "       [0.87792208, 0.12207792],\n",
       "       [0.96062992, 0.03937008],\n",
       "       [0.01295337, 0.98704663],\n",
       "       [0.07792208, 0.92207792],\n",
       "       [0.94750656, 0.05249344],\n",
       "       [0.12154696, 0.87845304],\n",
       "       [0.        , 1.        ],\n",
       "       [0.28680203, 0.71319797],\n",
       "       [0.96640827, 0.03359173],\n",
       "       [0.81265823, 0.18734177],\n",
       "       [0.10555556, 0.89444444],\n",
       "       [0.75925926, 0.24074074],\n",
       "       [0.94666667, 0.05333333],\n",
       "       [0.16919192, 0.83080808],\n",
       "       [0.14138817, 0.85861183],\n",
       "       [0.98944591, 0.01055409],\n",
       "       [0.        , 1.        ],\n",
       "       [0.00757576, 0.99242424],\n",
       "       [0.0156658 , 0.9843342 ],\n",
       "       [0.32439678, 0.67560322],\n",
       "       [0.83378016, 0.16621984],\n",
       "       [0.04761905, 0.95238095],\n",
       "       [0.98666667, 0.01333333],\n",
       "       [0.88502674, 0.11497326],\n",
       "       [0.        , 1.        ],\n",
       "       [0.73913043, 0.26086957],\n",
       "       [0.99493671, 0.00506329],\n",
       "       [0.02150538, 0.97849462],\n",
       "       [0.99236641, 0.00763359],\n",
       "       [0.03367876, 0.96632124],\n",
       "       [0.00265957, 0.99734043],\n",
       "       [0.11716621, 0.88283379],\n",
       "       [0.21657754, 0.78342246],\n",
       "       [0.84042553, 0.15957447],\n",
       "       [0.08290155, 0.91709845],\n",
       "       [0.99202128, 0.00797872],\n",
       "       [0.5883905 , 0.4116095 ],\n",
       "       [0.09625668, 0.90374332],\n",
       "       [0.62086514, 0.37913486],\n",
       "       [0.82216495, 0.17783505],\n",
       "       [0.0078329 , 0.9921671 ],\n",
       "       [0.99470899, 0.00529101],\n",
       "       [0.01243781, 0.98756219],\n",
       "       [0.        , 1.        ],\n",
       "       [0.70680628, 0.29319372],\n",
       "       [0.        , 1.        ],\n",
       "       [0.98412698, 0.01587302],\n",
       "       [0.09264305, 0.90735695],\n",
       "       [0.72105263, 0.27894737],\n",
       "       [0.145     , 0.855     ],\n",
       "       [0.99730458, 0.00269542],\n",
       "       [0.86422977, 0.13577023],\n",
       "       [0.00263158, 0.99736842],\n",
       "       [0.0525    , 0.9475    ],\n",
       "       [0.17171717, 0.82828283],\n",
       "       [0.07258065, 0.92741935],\n",
       "       [0.00261097, 0.99738903],\n",
       "       [0.97186701, 0.02813299],\n",
       "       [0.84126984, 0.15873016],\n",
       "       [0.16927083, 0.83072917],\n",
       "       [0.92307692, 0.07692308],\n",
       "       [0.05509642, 0.94490358],\n",
       "       [0.60606061, 0.39393939],\n",
       "       [0.11917098, 0.88082902],\n",
       "       [0.94117647, 0.05882353],\n",
       "       [0.89972145, 0.10027855],\n",
       "       [0.00502513, 0.99497487],\n",
       "       [0.92838196, 0.07161804],\n",
       "       [0.87623762, 0.12376238],\n",
       "       [0.        , 1.        ],\n",
       "       [0.05347594, 0.94652406],\n",
       "       [0.99728997, 0.00271003],\n",
       "       [0.02162162, 0.97837838],\n",
       "       [0.98677249, 0.01322751],\n",
       "       [0.08970976, 0.91029024],\n",
       "       [0.88772846, 0.11227154],\n",
       "       [0.98963731, 0.01036269],\n",
       "       [0.00520833, 0.99479167],\n",
       "       [0.03166227, 0.96833773],\n",
       "       [0.65691489, 0.34308511],\n",
       "       [0.        , 1.        ],\n",
       "       [0.99749373, 0.00250627],\n",
       "       [0.66580977, 0.33419023],\n",
       "       [0.86329114, 0.13670886],\n",
       "       [0.99481865, 0.00518135],\n",
       "       [0.67692308, 0.32307692],\n",
       "       [0.51378446, 0.48621554],\n",
       "       [0.03804348, 0.96195652],\n",
       "       [0.83854167, 0.16145833],\n",
       "       [0.01012658, 0.98987342],\n",
       "       [0.99750623, 0.00249377],\n",
       "       [0.75443038, 0.24556962],\n",
       "       [0.99234694, 0.00765306],\n",
       "       [0.99479167, 0.00520833],\n",
       "       [0.82564103, 0.17435897],\n",
       "       [0.31688312, 0.68311688],\n",
       "       [0.16172507, 0.83827493],\n",
       "       [0.25789474, 0.74210526],\n",
       "       [0.00258398, 0.99741602],\n",
       "       [0.75696203, 0.24303797],\n",
       "       [0.89583333, 0.10416667],\n",
       "       [0.03282828, 0.96717172],\n",
       "       [0.99485861, 0.00514139],\n",
       "       [0.96605744, 0.03394256],\n",
       "       [0.99197861, 0.00802139],\n",
       "       [0.        , 1.        ],\n",
       "       [0.07272727, 0.92727273],\n",
       "       [0.89928058, 0.10071942],\n",
       "       [0.92227979, 0.07772021],\n",
       "       [0.99741602, 0.00258398],\n",
       "       [0.20626632, 0.79373368],\n",
       "       [0.98992443, 0.01007557],\n",
       "       [0.13471503, 0.86528497],\n",
       "       [0.93846154, 0.06153846],\n",
       "       [0.05882353, 0.94117647],\n",
       "       [0.98488665, 0.01511335],\n",
       "       [0.98659517, 0.01340483],\n",
       "       [0.99489796, 0.00510204],\n",
       "       [0.        , 1.        ],\n",
       "       [0.93611794, 0.06388206],\n",
       "       [0.00789474, 0.99210526],\n",
       "       [0.04935065, 0.95064935],\n",
       "       [0.05851064, 0.94148936],\n",
       "       [0.        , 1.        ],\n",
       "       [0.99736148, 0.00263852],\n",
       "       [0.98351648, 0.01648352],\n",
       "       [0.        , 1.        ],\n",
       "       [0.94656489, 0.05343511],\n",
       "       [0.09308511, 0.90691489],\n",
       "       [0.98704663, 0.01295337],\n",
       "       [0.20155039, 0.79844961],\n",
       "       [0.01049869, 0.98950131],\n",
       "       [0.06020942, 0.93979058],\n",
       "       [0.0027248 , 0.9972752 ],\n",
       "       [0.83928571, 0.16071429],\n",
       "       [0.09408602, 0.90591398],\n",
       "       [0.11428571, 0.88571429],\n",
       "       [0.99745547, 0.00254453],\n",
       "       [0.93861893, 0.06138107],\n",
       "       [0.16962025, 0.83037975],\n",
       "       [0.93565684, 0.06434316],\n",
       "       [0.07407407, 0.92592593],\n",
       "       [0.10483871, 0.89516129],\n",
       "       [0.99473684, 0.00526316],\n",
       "       [0.89812332, 0.10187668],\n",
       "       [0.57219251, 0.42780749],\n",
       "       [0.88235294, 0.11764706],\n",
       "       [0.99750623, 0.00249377],\n",
       "       [0.04438642, 0.95561358],\n",
       "       [0.95685279, 0.04314721],\n",
       "       [0.03341902, 0.96658098],\n",
       "       [0.14550265, 0.85449735],\n",
       "       [0.93684211, 0.06315789],\n",
       "       [0.9974026 , 0.0025974 ],\n",
       "       [0.06770833, 0.93229167],\n",
       "       [0.73243243, 0.26756757]])"
      ]
     },
     "execution_count": 20,
     "metadata": {},
     "output_type": "execute_result"
    }
   ],
   "source": [
    "bag_clf.oob_decision_function_"
   ]
  },
  {
   "cell_type": "code",
   "execution_count": null,
   "id": "2e29609e-bf23-4806-b871-0f4ee83a8e37",
   "metadata": {},
   "outputs": [],
   "source": []
  }
 ],
 "metadata": {
  "kernelspec": {
   "display_name": "Python 3 (ipykernel)",
   "language": "python",
   "name": "python3"
  },
  "language_info": {
   "codemirror_mode": {
    "name": "ipython",
    "version": 3
   },
   "file_extension": ".py",
   "mimetype": "text/x-python",
   "name": "python",
   "nbconvert_exporter": "python",
   "pygments_lexer": "ipython3",
   "version": "3.11.2"
  }
 },
 "nbformat": 4,
 "nbformat_minor": 5
}
