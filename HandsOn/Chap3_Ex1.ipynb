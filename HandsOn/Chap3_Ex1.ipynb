{
 "cells": [
  {
   "cell_type": "markdown",
   "id": "75e9b75c-2b6f-42f5-9f83-24db51f8c1dc",
   "metadata": {},
   "source": [
    "# Chapter 3 Exercise 1\n",
    "build a classifier for MNIST dataset that achieves over 97% accuracy using KNeighborsClassifier"
   ]
  },
  {
   "cell_type": "code",
   "execution_count": 1,
   "id": "975eaedb-1d79-47fb-922c-eb23b1ee722b",
   "metadata": {
    "tags": []
   },
   "outputs": [
    {
     "data": {
      "text/plain": [
       "dict_keys(['data', 'target', 'frame', 'categories', 'feature_names', 'target_names', 'DESCR', 'details', 'url'])"
      ]
     },
     "execution_count": 1,
     "metadata": {},
     "output_type": "execute_result"
    }
   ],
   "source": [
    "from sklearn.datasets import fetch_openml\n",
    "import numpy as np\n",
    "import matplotlib as mpl\n",
    "import matplotlib.pyplot as plt\n",
    "\n",
    "mnist = fetch_openml('mnist_784', version=1, as_frame=False, parser='auto')\n",
    "mnist.keys()"
   ]
  },
  {
   "cell_type": "code",
   "execution_count": 2,
   "id": "1113e5fc-3f0f-4ed4-aa4a-9c461f19a25f",
   "metadata": {
    "tags": []
   },
   "outputs": [],
   "source": [
    "X, y = mnist['data'], mnist['target']"
   ]
  },
  {
   "cell_type": "code",
   "execution_count": 3,
   "id": "be4ce932-62da-4115-a3f4-bc7bba35d9c3",
   "metadata": {
    "tags": []
   },
   "outputs": [],
   "source": [
    "y = y.astype(np.uint8)"
   ]
  },
  {
   "cell_type": "code",
   "execution_count": 4,
   "id": "dbe86a4b-6f6b-4eb4-9f97-89fba92b6bdc",
   "metadata": {
    "tags": []
   },
   "outputs": [],
   "source": [
    "X_train, X_test, y_train, y_test = X[:60000], X[60000:], y[:60000], y[60000:]"
   ]
  },
  {
   "cell_type": "code",
   "execution_count": 6,
   "id": "472179ed-7ee9-4f66-8379-0d8dc8954bad",
   "metadata": {},
   "outputs": [
    {
     "name": "stdout",
     "output_type": "stream",
     "text": [
      "Fitting 5 folds for each of 18 candidates, totalling 90 fits\n",
      "[CV 1/5] END ....n_neighbors=2, weights=uniform;, score=0.964 total time=   7.6s\n",
      "[CV 2/5] END ....n_neighbors=2, weights=uniform;, score=0.963 total time=   7.6s\n",
      "[CV 3/5] END ....n_neighbors=2, weights=uniform;, score=0.962 total time=   7.6s\n",
      "[CV 4/5] END ....n_neighbors=2, weights=uniform;, score=0.963 total time=   7.5s\n",
      "[CV 5/5] END ....n_neighbors=2, weights=uniform;, score=0.964 total time=   7.5s\n",
      "[CV 1/5] END ...n_neighbors=2, weights=distance;, score=0.970 total time=   7.4s\n",
      "[CV 2/5] END ...n_neighbors=2, weights=distance;, score=0.971 total time=   7.4s\n",
      "[CV 3/5] END ...n_neighbors=2, weights=distance;, score=0.969 total time=   7.4s\n",
      "[CV 4/5] END ...n_neighbors=2, weights=distance;, score=0.969 total time=   7.4s\n",
      "[CV 5/5] END ...n_neighbors=2, weights=distance;, score=0.968 total time=   7.5s\n",
      "[CV 1/5] END ....n_neighbors=3, weights=uniform;, score=0.972 total time=   8.9s\n",
      "[CV 2/5] END ....n_neighbors=3, weights=uniform;, score=0.971 total time=   8.8s\n",
      "[CV 3/5] END ....n_neighbors=3, weights=uniform;, score=0.969 total time=   8.8s\n",
      "[CV 4/5] END ....n_neighbors=3, weights=uniform;, score=0.969 total time=   8.9s\n",
      "[CV 5/5] END ....n_neighbors=3, weights=uniform;, score=0.970 total time=   8.8s\n",
      "[CV 1/5] END ...n_neighbors=3, weights=distance;, score=0.972 total time=   8.7s\n",
      "[CV 2/5] END ...n_neighbors=3, weights=distance;, score=0.972 total time=   8.7s\n",
      "[CV 3/5] END ...n_neighbors=3, weights=distance;, score=0.970 total time=   8.5s\n",
      "[CV 4/5] END ...n_neighbors=3, weights=distance;, score=0.970 total time=   8.6s\n",
      "[CV 5/5] END ...n_neighbors=3, weights=distance;, score=0.971 total time=   8.6s\n",
      "[CV 1/5] END ....n_neighbors=4, weights=uniform;, score=0.969 total time=   9.4s\n",
      "[CV 2/5] END ....n_neighbors=4, weights=uniform;, score=0.968 total time=   9.4s\n",
      "[CV 3/5] END ....n_neighbors=4, weights=uniform;, score=0.968 total time=   9.5s\n",
      "[CV 4/5] END ....n_neighbors=4, weights=uniform;, score=0.967 total time=   9.8s\n",
      "[CV 5/5] END ....n_neighbors=4, weights=uniform;, score=0.970 total time=   9.9s\n",
      "[CV 1/5] END ...n_neighbors=4, weights=distance;, score=0.973 total time=   9.5s\n",
      "[CV 2/5] END ...n_neighbors=4, weights=distance;, score=0.972 total time=   9.6s\n",
      "[CV 3/5] END ...n_neighbors=4, weights=distance;, score=0.970 total time=   9.4s\n",
      "[CV 4/5] END ...n_neighbors=4, weights=distance;, score=0.971 total time=   9.7s\n",
      "[CV 5/5] END ...n_neighbors=4, weights=distance;, score=0.972 total time=   9.7s\n",
      "[CV 1/5] END ....n_neighbors=5, weights=uniform;, score=0.970 total time=   9.6s\n",
      "[CV 2/5] END ....n_neighbors=5, weights=uniform;, score=0.970 total time=   9.7s\n",
      "[CV 3/5] END ....n_neighbors=5, weights=uniform;, score=0.969 total time=   9.5s\n",
      "[CV 4/5] END ....n_neighbors=5, weights=uniform;, score=0.968 total time=   9.7s\n",
      "[CV 5/5] END ....n_neighbors=5, weights=uniform;, score=0.969 total time=   9.8s\n",
      "[CV 1/5] END ...n_neighbors=5, weights=distance;, score=0.970 total time=   9.5s\n",
      "[CV 2/5] END ...n_neighbors=5, weights=distance;, score=0.971 total time=   9.4s\n",
      "[CV 3/5] END ...n_neighbors=5, weights=distance;, score=0.970 total time=   9.2s\n",
      "[CV 4/5] END ...n_neighbors=5, weights=distance;, score=0.969 total time=   9.5s\n",
      "[CV 5/5] END ...n_neighbors=5, weights=distance;, score=0.971 total time=   9.7s\n",
      "[CV 1/5] END ....n_neighbors=6, weights=uniform;, score=0.968 total time=   9.6s\n",
      "[CV 2/5] END ....n_neighbors=6, weights=uniform;, score=0.969 total time=   9.7s\n",
      "[CV 3/5] END ....n_neighbors=6, weights=uniform;, score=0.968 total time=   9.5s\n",
      "[CV 4/5] END ....n_neighbors=6, weights=uniform;, score=0.967 total time=   9.7s\n",
      "[CV 5/5] END ....n_neighbors=6, weights=uniform;, score=0.969 total time=   9.6s\n",
      "[CV 1/5] END ...n_neighbors=6, weights=distance;, score=0.972 total time=   9.2s\n",
      "[CV 2/5] END ...n_neighbors=6, weights=distance;, score=0.972 total time=   9.3s\n",
      "[CV 3/5] END ...n_neighbors=6, weights=distance;, score=0.970 total time=   9.3s\n",
      "[CV 4/5] END ...n_neighbors=6, weights=distance;, score=0.970 total time=   9.5s\n",
      "[CV 5/5] END ...n_neighbors=6, weights=distance;, score=0.972 total time=   9.5s\n",
      "[CV 1/5] END ....n_neighbors=7, weights=uniform;, score=0.968 total time=   9.4s\n",
      "[CV 2/5] END ....n_neighbors=7, weights=uniform;, score=0.970 total time=   9.6s\n",
      "[CV 3/5] END ....n_neighbors=7, weights=uniform;, score=0.966 total time=   9.3s\n",
      "[CV 4/5] END ....n_neighbors=7, weights=uniform;, score=0.967 total time=   9.5s\n",
      "[CV 5/5] END ....n_neighbors=7, weights=uniform;, score=0.968 total time=   9.6s\n",
      "[CV 1/5] END ...n_neighbors=7, weights=distance;, score=0.969 total time=   9.4s\n",
      "[CV 2/5] END ...n_neighbors=7, weights=distance;, score=0.970 total time=   9.6s\n",
      "[CV 3/5] END ...n_neighbors=7, weights=distance;, score=0.967 total time=   9.2s\n",
      "[CV 4/5] END ...n_neighbors=7, weights=distance;, score=0.969 total time=   9.5s\n",
      "[CV 5/5] END ...n_neighbors=7, weights=distance;, score=0.969 total time=   9.7s\n",
      "[CV 1/5] END ....n_neighbors=8, weights=uniform;, score=0.966 total time=   9.5s\n",
      "[CV 2/5] END ....n_neighbors=8, weights=uniform;, score=0.967 total time=   9.6s\n",
      "[CV 3/5] END ....n_neighbors=8, weights=uniform;, score=0.965 total time=   9.3s\n",
      "[CV 4/5] END ....n_neighbors=8, weights=uniform;, score=0.965 total time=   9.5s\n",
      "[CV 5/5] END ....n_neighbors=8, weights=uniform;, score=0.968 total time=   9.7s\n",
      "[CV 1/5] END ...n_neighbors=8, weights=distance;, score=0.969 total time=   9.3s\n",
      "[CV 2/5] END ...n_neighbors=8, weights=distance;, score=0.970 total time=   9.4s\n",
      "[CV 3/5] END ...n_neighbors=8, weights=distance;, score=0.967 total time=   9.3s\n",
      "[CV 4/5] END ...n_neighbors=8, weights=distance;, score=0.968 total time=   9.6s\n",
      "[CV 5/5] END ...n_neighbors=8, weights=distance;, score=0.971 total time=   9.7s\n",
      "[CV 1/5] END ....n_neighbors=9, weights=uniform;, score=0.965 total time=   9.5s\n",
      "[CV 2/5] END ....n_neighbors=9, weights=uniform;, score=0.968 total time=   9.6s\n",
      "[CV 3/5] END ....n_neighbors=9, weights=uniform;, score=0.965 total time=   9.5s\n",
      "[CV 4/5] END ....n_neighbors=9, weights=uniform;, score=0.965 total time=   9.7s\n",
      "[CV 5/5] END ....n_neighbors=9, weights=uniform;, score=0.968 total time=   9.9s\n",
      "[CV 1/5] END ...n_neighbors=9, weights=distance;, score=0.967 total time=   9.5s\n",
      "[CV 2/5] END ...n_neighbors=9, weights=distance;, score=0.968 total time=   9.6s\n",
      "[CV 3/5] END ...n_neighbors=9, weights=distance;, score=0.966 total time=   9.5s\n",
      "[CV 4/5] END ...n_neighbors=9, weights=distance;, score=0.966 total time=   9.7s\n",
      "[CV 5/5] END ...n_neighbors=9, weights=distance;, score=0.970 total time=   9.8s\n",
      "[CV 1/5] END ...n_neighbors=10, weights=uniform;, score=0.965 total time=   9.6s\n",
      "[CV 2/5] END ...n_neighbors=10, weights=uniform;, score=0.966 total time=   9.7s\n",
      "[CV 3/5] END ...n_neighbors=10, weights=uniform;, score=0.963 total time=   9.3s\n",
      "[CV 4/5] END ...n_neighbors=10, weights=uniform;, score=0.964 total time=   9.6s\n",
      "[CV 5/5] END ...n_neighbors=10, weights=uniform;, score=0.967 total time=   9.7s\n",
      "[CV 1/5] END ..n_neighbors=10, weights=distance;, score=0.967 total time=   9.7s\n",
      "[CV 2/5] END ..n_neighbors=10, weights=distance;, score=0.969 total time=   9.7s\n",
      "[CV 3/5] END ..n_neighbors=10, weights=distance;, score=0.966 total time=   9.5s\n",
      "[CV 4/5] END ..n_neighbors=10, weights=distance;, score=0.965 total time=   9.8s\n",
      "[CV 5/5] END ..n_neighbors=10, weights=distance;, score=0.969 total time=   9.7s\n"
     ]
    },
    {
     "data": {
      "text/html": [
       "<style>#sk-container-id-1 {color: black;background-color: white;}#sk-container-id-1 pre{padding: 0;}#sk-container-id-1 div.sk-toggleable {background-color: white;}#sk-container-id-1 label.sk-toggleable__label {cursor: pointer;display: block;width: 100%;margin-bottom: 0;padding: 0.3em;box-sizing: border-box;text-align: center;}#sk-container-id-1 label.sk-toggleable__label-arrow:before {content: \"▸\";float: left;margin-right: 0.25em;color: #696969;}#sk-container-id-1 label.sk-toggleable__label-arrow:hover:before {color: black;}#sk-container-id-1 div.sk-estimator:hover label.sk-toggleable__label-arrow:before {color: black;}#sk-container-id-1 div.sk-toggleable__content {max-height: 0;max-width: 0;overflow: hidden;text-align: left;background-color: #f0f8ff;}#sk-container-id-1 div.sk-toggleable__content pre {margin: 0.2em;color: black;border-radius: 0.25em;background-color: #f0f8ff;}#sk-container-id-1 input.sk-toggleable__control:checked~div.sk-toggleable__content {max-height: 200px;max-width: 100%;overflow: auto;}#sk-container-id-1 input.sk-toggleable__control:checked~label.sk-toggleable__label-arrow:before {content: \"▾\";}#sk-container-id-1 div.sk-estimator input.sk-toggleable__control:checked~label.sk-toggleable__label {background-color: #d4ebff;}#sk-container-id-1 div.sk-label input.sk-toggleable__control:checked~label.sk-toggleable__label {background-color: #d4ebff;}#sk-container-id-1 input.sk-hidden--visually {border: 0;clip: rect(1px 1px 1px 1px);clip: rect(1px, 1px, 1px, 1px);height: 1px;margin: -1px;overflow: hidden;padding: 0;position: absolute;width: 1px;}#sk-container-id-1 div.sk-estimator {font-family: monospace;background-color: #f0f8ff;border: 1px dotted black;border-radius: 0.25em;box-sizing: border-box;margin-bottom: 0.5em;}#sk-container-id-1 div.sk-estimator:hover {background-color: #d4ebff;}#sk-container-id-1 div.sk-parallel-item::after {content: \"\";width: 100%;border-bottom: 1px solid gray;flex-grow: 1;}#sk-container-id-1 div.sk-label:hover label.sk-toggleable__label {background-color: #d4ebff;}#sk-container-id-1 div.sk-serial::before {content: \"\";position: absolute;border-left: 1px solid gray;box-sizing: border-box;top: 0;bottom: 0;left: 50%;z-index: 0;}#sk-container-id-1 div.sk-serial {display: flex;flex-direction: column;align-items: center;background-color: white;padding-right: 0.2em;padding-left: 0.2em;position: relative;}#sk-container-id-1 div.sk-item {position: relative;z-index: 1;}#sk-container-id-1 div.sk-parallel {display: flex;align-items: stretch;justify-content: center;background-color: white;position: relative;}#sk-container-id-1 div.sk-item::before, #sk-container-id-1 div.sk-parallel-item::before {content: \"\";position: absolute;border-left: 1px solid gray;box-sizing: border-box;top: 0;bottom: 0;left: 50%;z-index: -1;}#sk-container-id-1 div.sk-parallel-item {display: flex;flex-direction: column;z-index: 1;position: relative;background-color: white;}#sk-container-id-1 div.sk-parallel-item:first-child::after {align-self: flex-end;width: 50%;}#sk-container-id-1 div.sk-parallel-item:last-child::after {align-self: flex-start;width: 50%;}#sk-container-id-1 div.sk-parallel-item:only-child::after {width: 0;}#sk-container-id-1 div.sk-dashed-wrapped {border: 1px dashed gray;margin: 0 0.4em 0.5em 0.4em;box-sizing: border-box;padding-bottom: 0.4em;background-color: white;}#sk-container-id-1 div.sk-label label {font-family: monospace;font-weight: bold;display: inline-block;line-height: 1.2em;}#sk-container-id-1 div.sk-label-container {text-align: center;}#sk-container-id-1 div.sk-container {/* jupyter's `normalize.less` sets `[hidden] { display: none; }` but bootstrap.min.css set `[hidden] { display: none !important; }` so we also need the `!important` here to be able to override the default hidden behavior on the sphinx rendered scikit-learn.org. See: https://github.com/scikit-learn/scikit-learn/issues/21755 */display: inline-block !important;position: relative;}#sk-container-id-1 div.sk-text-repr-fallback {display: none;}</style><div id=\"sk-container-id-1\" class=\"sk-top-container\"><div class=\"sk-text-repr-fallback\"><pre>GridSearchCV(cv=5, estimator=KNeighborsClassifier(),\n",
       "             param_grid={&#x27;n_neighbors&#x27;: [2, 3, 4, 5, 6, 7, 8, 9, 10],\n",
       "                         &#x27;weights&#x27;: [&#x27;uniform&#x27;, &#x27;distance&#x27;]},\n",
       "             scoring=&#x27;accuracy&#x27;, verbose=3)</pre><b>In a Jupyter environment, please rerun this cell to show the HTML representation or trust the notebook. <br />On GitHub, the HTML representation is unable to render, please try loading this page with nbviewer.org.</b></div><div class=\"sk-container\" hidden><div class=\"sk-item sk-dashed-wrapped\"><div class=\"sk-label-container\"><div class=\"sk-label sk-toggleable\"><input class=\"sk-toggleable__control sk-hidden--visually\" id=\"sk-estimator-id-1\" type=\"checkbox\" ><label for=\"sk-estimator-id-1\" class=\"sk-toggleable__label sk-toggleable__label-arrow\">GridSearchCV</label><div class=\"sk-toggleable__content\"><pre>GridSearchCV(cv=5, estimator=KNeighborsClassifier(),\n",
       "             param_grid={&#x27;n_neighbors&#x27;: [2, 3, 4, 5, 6, 7, 8, 9, 10],\n",
       "                         &#x27;weights&#x27;: [&#x27;uniform&#x27;, &#x27;distance&#x27;]},\n",
       "             scoring=&#x27;accuracy&#x27;, verbose=3)</pre></div></div></div><div class=\"sk-parallel\"><div class=\"sk-parallel-item\"><div class=\"sk-item\"><div class=\"sk-label-container\"><div class=\"sk-label sk-toggleable\"><input class=\"sk-toggleable__control sk-hidden--visually\" id=\"sk-estimator-id-2\" type=\"checkbox\" ><label for=\"sk-estimator-id-2\" class=\"sk-toggleable__label sk-toggleable__label-arrow\">estimator: KNeighborsClassifier</label><div class=\"sk-toggleable__content\"><pre>KNeighborsClassifier()</pre></div></div></div><div class=\"sk-serial\"><div class=\"sk-item\"><div class=\"sk-estimator sk-toggleable\"><input class=\"sk-toggleable__control sk-hidden--visually\" id=\"sk-estimator-id-3\" type=\"checkbox\" ><label for=\"sk-estimator-id-3\" class=\"sk-toggleable__label sk-toggleable__label-arrow\">KNeighborsClassifier</label><div class=\"sk-toggleable__content\"><pre>KNeighborsClassifier()</pre></div></div></div></div></div></div></div></div></div></div>"
      ],
      "text/plain": [
       "GridSearchCV(cv=5, estimator=KNeighborsClassifier(),\n",
       "             param_grid={'n_neighbors': [2, 3, 4, 5, 6, 7, 8, 9, 10],\n",
       "                         'weights': ['uniform', 'distance']},\n",
       "             scoring='accuracy', verbose=3)"
      ]
     },
     "execution_count": 6,
     "metadata": {},
     "output_type": "execute_result"
    }
   ],
   "source": [
    "from sklearn.neighbors import KNeighborsClassifier\n",
    "from sklearn.model_selection import GridSearchCV\n",
    "\n",
    "\n",
    "param_distrib = {\n",
    "    'n_neighbors': [2, 3, 4, 5, 6, 7, 8, 9,10],\n",
    "    'weights': ['uniform', 'distance'],\n",
    "}\n",
    "knn_clf = KNeighborsClassifier()\n",
    "\n",
    "grid = GridSearchCV(knn_clf, param_distrib, scoring='accuracy', cv=5, verbose=3)\n",
    "grid.fit(X_train, y_train)"
   ]
  },
  {
   "cell_type": "code",
   "execution_count": 7,
   "id": "78531c85-3ea5-4115-a505-2ea5447a50c9",
   "metadata": {
    "tags": []
   },
   "outputs": [
    {
     "data": {
      "text/html": [
       "<style>#sk-container-id-2 {color: black;background-color: white;}#sk-container-id-2 pre{padding: 0;}#sk-container-id-2 div.sk-toggleable {background-color: white;}#sk-container-id-2 label.sk-toggleable__label {cursor: pointer;display: block;width: 100%;margin-bottom: 0;padding: 0.3em;box-sizing: border-box;text-align: center;}#sk-container-id-2 label.sk-toggleable__label-arrow:before {content: \"▸\";float: left;margin-right: 0.25em;color: #696969;}#sk-container-id-2 label.sk-toggleable__label-arrow:hover:before {color: black;}#sk-container-id-2 div.sk-estimator:hover label.sk-toggleable__label-arrow:before {color: black;}#sk-container-id-2 div.sk-toggleable__content {max-height: 0;max-width: 0;overflow: hidden;text-align: left;background-color: #f0f8ff;}#sk-container-id-2 div.sk-toggleable__content pre {margin: 0.2em;color: black;border-radius: 0.25em;background-color: #f0f8ff;}#sk-container-id-2 input.sk-toggleable__control:checked~div.sk-toggleable__content {max-height: 200px;max-width: 100%;overflow: auto;}#sk-container-id-2 input.sk-toggleable__control:checked~label.sk-toggleable__label-arrow:before {content: \"▾\";}#sk-container-id-2 div.sk-estimator input.sk-toggleable__control:checked~label.sk-toggleable__label {background-color: #d4ebff;}#sk-container-id-2 div.sk-label input.sk-toggleable__control:checked~label.sk-toggleable__label {background-color: #d4ebff;}#sk-container-id-2 input.sk-hidden--visually {border: 0;clip: rect(1px 1px 1px 1px);clip: rect(1px, 1px, 1px, 1px);height: 1px;margin: -1px;overflow: hidden;padding: 0;position: absolute;width: 1px;}#sk-container-id-2 div.sk-estimator {font-family: monospace;background-color: #f0f8ff;border: 1px dotted black;border-radius: 0.25em;box-sizing: border-box;margin-bottom: 0.5em;}#sk-container-id-2 div.sk-estimator:hover {background-color: #d4ebff;}#sk-container-id-2 div.sk-parallel-item::after {content: \"\";width: 100%;border-bottom: 1px solid gray;flex-grow: 1;}#sk-container-id-2 div.sk-label:hover label.sk-toggleable__label {background-color: #d4ebff;}#sk-container-id-2 div.sk-serial::before {content: \"\";position: absolute;border-left: 1px solid gray;box-sizing: border-box;top: 0;bottom: 0;left: 50%;z-index: 0;}#sk-container-id-2 div.sk-serial {display: flex;flex-direction: column;align-items: center;background-color: white;padding-right: 0.2em;padding-left: 0.2em;position: relative;}#sk-container-id-2 div.sk-item {position: relative;z-index: 1;}#sk-container-id-2 div.sk-parallel {display: flex;align-items: stretch;justify-content: center;background-color: white;position: relative;}#sk-container-id-2 div.sk-item::before, #sk-container-id-2 div.sk-parallel-item::before {content: \"\";position: absolute;border-left: 1px solid gray;box-sizing: border-box;top: 0;bottom: 0;left: 50%;z-index: -1;}#sk-container-id-2 div.sk-parallel-item {display: flex;flex-direction: column;z-index: 1;position: relative;background-color: white;}#sk-container-id-2 div.sk-parallel-item:first-child::after {align-self: flex-end;width: 50%;}#sk-container-id-2 div.sk-parallel-item:last-child::after {align-self: flex-start;width: 50%;}#sk-container-id-2 div.sk-parallel-item:only-child::after {width: 0;}#sk-container-id-2 div.sk-dashed-wrapped {border: 1px dashed gray;margin: 0 0.4em 0.5em 0.4em;box-sizing: border-box;padding-bottom: 0.4em;background-color: white;}#sk-container-id-2 div.sk-label label {font-family: monospace;font-weight: bold;display: inline-block;line-height: 1.2em;}#sk-container-id-2 div.sk-label-container {text-align: center;}#sk-container-id-2 div.sk-container {/* jupyter's `normalize.less` sets `[hidden] { display: none; }` but bootstrap.min.css set `[hidden] { display: none !important; }` so we also need the `!important` here to be able to override the default hidden behavior on the sphinx rendered scikit-learn.org. See: https://github.com/scikit-learn/scikit-learn/issues/21755 */display: inline-block !important;position: relative;}#sk-container-id-2 div.sk-text-repr-fallback {display: none;}</style><div id=\"sk-container-id-2\" class=\"sk-top-container\"><div class=\"sk-text-repr-fallback\"><pre>KNeighborsClassifier(n_neighbors=4, weights=&#x27;distance&#x27;)</pre><b>In a Jupyter environment, please rerun this cell to show the HTML representation or trust the notebook. <br />On GitHub, the HTML representation is unable to render, please try loading this page with nbviewer.org.</b></div><div class=\"sk-container\" hidden><div class=\"sk-item\"><div class=\"sk-estimator sk-toggleable\"><input class=\"sk-toggleable__control sk-hidden--visually\" id=\"sk-estimator-id-4\" type=\"checkbox\" checked><label for=\"sk-estimator-id-4\" class=\"sk-toggleable__label sk-toggleable__label-arrow\">KNeighborsClassifier</label><div class=\"sk-toggleable__content\"><pre>KNeighborsClassifier(n_neighbors=4, weights=&#x27;distance&#x27;)</pre></div></div></div></div></div>"
      ],
      "text/plain": [
       "KNeighborsClassifier(n_neighbors=4, weights='distance')"
      ]
     },
     "execution_count": 7,
     "metadata": {},
     "output_type": "execute_result"
    }
   ],
   "source": [
    "grid.best_estimator_"
   ]
  },
  {
   "cell_type": "code",
   "execution_count": 8,
   "id": "086c057a-e8d8-4b5c-a0aa-e32e4fe1bb03",
   "metadata": {
    "tags": []
   },
   "outputs": [
    {
     "data": {
      "text/plain": [
       "0.9716166666666666"
      ]
     },
     "execution_count": 8,
     "metadata": {},
     "output_type": "execute_result"
    }
   ],
   "source": [
    "grid.best_score_"
   ]
  },
  {
   "cell_type": "code",
   "execution_count": 9,
   "id": "0481105c-259d-4f5d-87cf-384d35fe9496",
   "metadata": {
    "tags": []
   },
   "outputs": [
    {
     "data": {
      "text/plain": [
       "0.9714"
      ]
     },
     "execution_count": 9,
     "metadata": {},
     "output_type": "execute_result"
    }
   ],
   "source": [
    "from sklearn.metrics import accuracy_score\n",
    "\n",
    "y_pred = grid.predict(X_test)\n",
    "accuracy_score(y_test, y_pred)"
   ]
  },
  {
   "cell_type": "code",
   "execution_count": null,
   "id": "e409688b-863c-4096-9c21-1533a75c7e92",
   "metadata": {},
   "outputs": [],
   "source": []
  }
 ],
 "metadata": {
  "kernelspec": {
   "display_name": "Python 3 (ipykernel)",
   "language": "python",
   "name": "python3"
  },
  "language_info": {
   "codemirror_mode": {
    "name": "ipython",
    "version": 3
   },
   "file_extension": ".py",
   "mimetype": "text/x-python",
   "name": "python",
   "nbconvert_exporter": "python",
   "pygments_lexer": "ipython3",
   "version": "3.9.2"
  }
 },
 "nbformat": 4,
 "nbformat_minor": 5
}
